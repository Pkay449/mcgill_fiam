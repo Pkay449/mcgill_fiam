{
 "cells": [
  {
   "cell_type": "markdown",
   "metadata": {},
   "source": [
    "## Going through Whole Dataset"
   ]
  },
  {
   "cell_type": "code",
   "execution_count": 3,
   "metadata": {},
   "outputs": [],
   "source": [
    "import numpy as np\n",
    "import pandas as pd"
   ]
  },
  {
   "cell_type": "code",
   "execution_count": null,
   "metadata": {},
   "outputs": [],
   "source": [
    "# import /Users/paulkelendji/Desktop/GitHub_paul/mcgill_fiam/raw_data/hackathon_sample_v2.csv\n",
    "path = '../raw_data/hackathon_sample_v2.csv'\n",
    "data = pd.read_csv(path)\n",
    "data"
   ]
  },
  {
   "cell_type": "code",
   "execution_count": null,
   "metadata": {},
   "outputs": [],
   "source": [
    "data.columns.tolist()"
   ]
  },
  {
   "cell_type": "code",
   "execution_count": null,
   "metadata": {},
   "outputs": [],
   "source": [
    "pd.to_datetime(data['date'], format='%Y%m%d')"
   ]
  },
  {
   "cell_type": "markdown",
   "metadata": {},
   "source": [
    "# Inspecting Features"
   ]
  },
  {
   "cell_type": "code",
   "execution_count": null,
   "metadata": {},
   "outputs": [],
   "source": [
    "path = '../raw_data/factor_char_list.csv'\n",
    "features = pd.read_csv(path)\n",
    "features"
   ]
  },
  {
   "cell_type": "code",
   "execution_count": null,
   "metadata": {},
   "outputs": [],
   "source": [
    "data[features.values.ravel().tolist()]"
   ]
  },
  {
   "cell_type": "markdown",
   "metadata": {},
   "source": [
    "---"
   ]
  },
  {
   "cell_type": "markdown",
   "metadata": {},
   "source": [
    "## Analysing a stock csv"
   ]
  },
  {
   "cell_type": "code",
   "execution_count": 10,
   "metadata": {},
   "outputs": [],
   "source": [
    "import numpy as np\n",
    "import pandas as pd"
   ]
  },
  {
   "cell_type": "code",
   "execution_count": null,
   "metadata": {},
   "outputs": [],
   "source": [
    "path = \"../stocks_data/00508Y10_89216.csv\"\n",
    "stock_data = pd.read_csv(path)\n",
    "# Convert 'datetime' column to datetime64[ns]\n",
    "stock_data['datetime'] = pd.to_datetime(stock_data['datetime'])\n",
    "stock_data\n"
   ]
  },
  {
   "cell_type": "code",
   "execution_count": null,
   "metadata": {},
   "outputs": [],
   "source": [
    "stock_data['prc']"
   ]
  },
  {
   "cell_type": "code",
   "execution_count": null,
   "metadata": {},
   "outputs": [],
   "source": [
    "# add closing price\n",
    "import yfinance as yf\n",
    "\n",
    "stock_ticker = stock_data[\"stock_ticker\"].iloc[-1]\n",
    "start_date = pd.to_datetime(stock_data[\"datetime\"].iloc[0]) - pd.DateOffset(months=1)\n",
    "end_date = pd.to_datetime(stock_data[\"datetime\"].iloc[-1]) + pd.DateOffset(months=1)\n",
    "\n",
    "yfinance_data = yf.download(stock_ticker, start=start_date, end=end_date, interval=\"1d\").resample('M').last()\n",
    "yfinance_data = yfinance_data['Close']\n",
    "yfinance_data = pd.DataFrame(yfinance_data)\n",
    "yfinance_data.reset_index(inplace=True)\n",
    "yfinance_data['year'] = yfinance_data['Date'].dt.year\n",
    "yfinance_data['month'] = yfinance_data['Date'].dt.month\n",
    "# reset Date as index\n",
    "yfinance_data.set_index('Date', inplace=True)\n",
    "yfinance_data\n"
   ]
  },
  {
   "cell_type": "code",
   "execution_count": null,
   "metadata": {},
   "outputs": [],
   "source": [
    "\n"
   ]
  },
  {
   "cell_type": "code",
   "execution_count": null,
   "metadata": {},
   "outputs": [],
   "source": [
    "tmp = pd.merge(stock_data, yfinance_data, on=['year', 'month'], how='left')\n",
    "tmp"
   ]
  },
  {
   "cell_type": "code",
   "execution_count": null,
   "metadata": {},
   "outputs": [],
   "source": [
    "tmp['prc, Adj Close']"
   ]
  },
  {
   "cell_type": "code",
   "execution_count": 42,
   "metadata": {},
   "outputs": [],
   "source": [
    "# after fe_code_01\n",
    "import pandas as pd\n",
    "import numpy as np"
   ]
  },
  {
   "cell_type": "markdown",
   "metadata": {},
   "source": [
    "## t1 var"
   ]
  },
  {
   "cell_type": "code",
   "execution_count": 61,
   "metadata": {},
   "outputs": [],
   "source": [
    "import pandas as pd\n",
    "import numpy as np"
   ]
  },
  {
   "cell_type": "code",
   "execution_count": null,
   "metadata": {},
   "outputs": [],
   "source": [
    "# import /Users/paulkelendji/Desktop/GitHub_paul/mcgill_fiam/raw_data/hackathon_sample_v2.csv\n",
    "path = '../raw_data/hackathon_sample_v2.csv'\n",
    "data = pd.read_csv(path)\n",
    "data"
   ]
  },
  {
   "cell_type": "code",
   "execution_count": null,
   "metadata": {},
   "outputs": [],
   "source": [
    "datetime_series = pd.to_datetime(data['date'], format='%Y%m%d')\n",
    "datetime_series"
   ]
  },
  {
   "cell_type": "markdown",
   "metadata": {},
   "source": [
    "---"
   ]
  },
  {
   "cell_type": "code",
   "execution_count": 13,
   "metadata": {},
   "outputs": [],
   "source": [
    "import pandas as pd\n",
    "import numpy as np"
   ]
  },
  {
   "cell_type": "code",
   "execution_count": null,
   "metadata": {},
   "outputs": [],
   "source": [
    "# import /Users/paulkelendji/Desktop/GitHub_paul/mcgill_fiam/raw_data/hackathon_sample_v2.csv\n",
    "path = '../raw_data/hackathon_sample_v2.csv'\n",
    "data = pd.read_csv(path)\n",
    "data"
   ]
  },
  {
   "cell_type": "code",
   "execution_count": null,
   "metadata": {},
   "outputs": [],
   "source": [
    "# add a new column 'datetime' with the date in datetime format\n",
    "data['datetime'] = pd.to_datetime(data['date'], format='%Y%m%d')\n",
    "# set 'datetime' as index\n",
    "data.set_index('datetime', inplace=True)\n",
    "data.index"
   ]
  },
  {
   "cell_type": "code",
   "execution_count": null,
   "metadata": {},
   "outputs": [],
   "source": []
  }
 ],
 "metadata": {
  "kernelspec": {
   "display_name": "financial_math",
   "language": "python",
   "name": "python3"
  },
  "language_info": {
   "codemirror_mode": {
    "name": "ipython",
    "version": 3
   },
   "file_extension": ".py",
   "mimetype": "text/x-python",
   "name": "python",
   "nbconvert_exporter": "python",
   "pygments_lexer": "ipython3",
   "version": "3.8.19"
  }
 },
 "nbformat": 4,
 "nbformat_minor": 2
}
