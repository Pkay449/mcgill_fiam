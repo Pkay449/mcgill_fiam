{
 "cells": [
  {
   "cell_type": "code",
   "execution_count": 3,
   "metadata": {},
   "outputs": [],
   "source": [
    "import pandas as pd\n",
    "import numpy as np\n",
    "import matplotlib.pyplot as plt\n",
    "\n",
    "import yfinance as yf"
   ]
  },
  {
   "cell_type": "code",
   "execution_count": null,
   "metadata": {},
   "outputs": [],
   "source": [
    "# download appl stock data from yahoo finance, 2010-01-01 to 2020-01-01\n",
    "# end of month data\n",
    "\n",
    "appl = yf.download('AAPL', start='2010-01-01', end='2020-01-01')\n",
    "# end of month\n",
    "appl = appl.resample('M').last()\n",
    "appl\n",
    "\n"
   ]
  },
  {
   "cell_type": "code",
   "execution_count": null,
   "metadata": {},
   "outputs": [],
   "source": [
    "import yfinance as yf\n",
    "\n",
    "# Define the ticker symbol (e.g., \"AAPL\" for Apple)\n",
    "ticker = \"AAPL\"\n",
    "\n",
    "# Fetch data from Yahoo Finance\n",
    "# Specify the time period and interval (e.g., '1mo' for monthly bars)\n",
    "data = yf.download(ticker, period=\"10y\", interval=\"1mo\")\n",
    "\n",
    "# Display the first few rows of the monthly time bars\n",
    "print(data.head())\n"
   ]
  },
  {
   "cell_type": "code",
   "execution_count": null,
   "metadata": {},
   "outputs": [],
   "source": []
  }
 ],
 "metadata": {
  "kernelspec": {
   "display_name": "financial_math",
   "language": "python",
   "name": "python3"
  },
  "language_info": {
   "codemirror_mode": {
    "name": "ipython",
    "version": 3
   },
   "file_extension": ".py",
   "mimetype": "text/x-python",
   "name": "python",
   "nbconvert_exporter": "python",
   "pygments_lexer": "ipython3",
   "version": "3.8.19"
  }
 },
 "nbformat": 4,
 "nbformat_minor": 2
}
