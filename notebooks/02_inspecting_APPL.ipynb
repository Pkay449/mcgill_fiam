{
 "cells": [
  {
   "cell_type": "code",
   "execution_count": 26,
   "metadata": {},
   "outputs": [],
   "source": [
    "import numpy as np\n",
    "import pandas as pd"
   ]
  },
  {
   "cell_type": "code",
   "execution_count": null,
   "metadata": {},
   "outputs": [],
   "source": [
    "# Now let's check if the index is correctly set when reading the saved file\n",
    "path = '../stocks_data/AAPL_03783310_14593.csv'\n",
    "df = pd.read_csv(path, index_col='datetime', parse_dates=True)  # Parse datetime and set as index\n",
    "df['stock_exret']"
   ]
  },
  {
   "cell_type": "code",
   "execution_count": null,
   "metadata": {},
   "outputs": [],
   "source": [
    "cols = ['prc', 'target', 'log_diff', 'stock_exret', 'rf', 'adj_price', 'total_return']\n",
    "df[cols]"
   ]
  },
  {
   "cell_type": "code",
   "execution_count": 29,
   "metadata": {},
   "outputs": [],
   "source": [
    "import yfinance as yf\n",
    "import pandas as pd\n",
    "import numpy as np\n",
    "import matplotlib.pyplot as plt\n"
   ]
  },
  {
   "cell_type": "code",
   "execution_count": null,
   "metadata": {},
   "outputs": [],
   "source": [
    "df"
   ]
  },
  {
   "cell_type": "code",
   "execution_count": null,
   "metadata": {},
   "outputs": [],
   "source": [
    "df.index[0]"
   ]
  },
  {
   "cell_type": "code",
   "execution_count": null,
   "metadata": {},
   "outputs": [],
   "source": [
    "# Define the ticker symbol and date range\n",
    "ticker = 'AAPL'\n",
    "start_date = df.index[0]\n",
    "end_date = df.index[-1]\n",
    "\n",
    "# Download the data\n",
    "data = yf.download(ticker, start=start_date, end=end_date)\n",
    "data['Close']\n"
   ]
  },
  {
   "cell_type": "code",
   "execution_count": null,
   "metadata": {},
   "outputs": [],
   "source": [
    "fig, ax1 = plt.subplots(figsize=(12, 6))\n",
    "\n",
    "# Plot data['Adj Close'] on the left y-axis\n",
    "color = 'tab:blue'\n",
    "ax1.set_xlabel('Date')\n",
    "ax1.set_ylabel('Adj Close (Yahoo Finance)', color=color)\n",
    "ax1.plot(data.index, data['Adj Close'], color=color)\n",
    "ax1.tick_params(axis='y', labelcolor=color)\n",
    "\n",
    "# Create a second y-axis for df['adj_price']\n",
    "ax2 = ax1.twinx()\n",
    "color = 'tab:red'\n",
    "ax2.set_ylabel('Adj Price (Your Method)', color=color)\n",
    "ax2.plot(df.index, df['adj_price'], color=color)\n",
    "ax2.tick_params(axis='y', labelcolor=color)\n",
    "\n",
    "plt.title('Comparison of Adjusted Prices of AAPL on Separate Y-Axes')\n",
    "fig.tight_layout()\n",
    "plt.show()\n"
   ]
  },
  {
   "cell_type": "code",
   "execution_count": null,
   "metadata": {},
   "outputs": [],
   "source": [
    "fig, ax1 = plt.subplots(figsize=(12, 6))\n",
    "\n",
    "# Plot data['Adj Close'] on the left y-axis\n",
    "color = 'tab:blue'\n",
    "ax1.set_xlabel('Date')\n",
    "ax1.set_ylabel('Adj Close (Yahoo Finance)', color=color)\n",
    "ax1.plot(df.index, df['prc'], color=color)\n",
    "ax1.tick_params(axis='y', labelcolor=color)\n",
    "\n",
    "# Create a second y-axis for df['adj_price']\n",
    "ax2 = ax1.twinx()\n",
    "color = 'tab:red'\n",
    "ax2.set_ylabel('Adj Price (Your Method)', color=color)\n",
    "ax2.plot(data.index, data['Close'], color=color)\n",
    "ax2.tick_params(axis='y', labelcolor=color)\n",
    "\n",
    "plt.title('Comparison of Adjusted Prices of AAPL on Separate Y-Axes')\n",
    "fig.tight_layout()\n",
    "plt.show()"
   ]
  },
  {
   "cell_type": "code",
   "execution_count": null,
   "metadata": {},
   "outputs": [],
   "source": [
    "# load t1 from objects/t1.pkl\n",
    "t1 = pd.read_pickle('../objects/t1.pkl')\n",
    "t1"
   ]
  },
  {
   "cell_type": "markdown",
   "metadata": {},
   "source": [
    "# Applying notes ch4 AFML on appl"
   ]
  },
  {
   "cell_type": "code",
   "execution_count": null,
   "metadata": {},
   "outputs": [],
   "source": [
    "t1"
   ]
  },
  {
   "cell_type": "code",
   "execution_count": 37,
   "metadata": {},
   "outputs": [],
   "source": [
    "def mpNumCoEvents(closeIdx, t1, molecule):\n",
    "    '''\n",
    "    Compute the number of concurrent events per bar.\n",
    "    +molecule[0] is the date of the first event on which the weight will be computed\n",
    "    +molecule[-1] is the date of the last event on which the weight will be computed\n",
    "    Any event that starts before t1[molecule].max() impacts the count.\n",
    "    '''\n",
    "    #1) find events that span the period [molecule[0], molecule[-1]]\n",
    "    t1 = t1.fillna(closeIdx[-1])  # unclosed events still must impact other weights\n",
    "    t1 = t1[t1 >= molecule[0]]  # events that end at or after molecule[0]\n",
    "    t1 = t1.loc[:t1[molecule].max()]  # events that start at or before t1[molecule].max()\n",
    "    \n",
    "    #2) count events spanning a bar\n",
    "    iloc = closeIdx.searchsorted(np.array([t1.index[0], t1.max()]))\n",
    "    count = pd.Series(0, index=closeIdx[iloc[0]:iloc[1] + 1])\n",
    "    for tIn, tOut in t1.items():  # Changed from iteritems() to items()\n",
    "        count.loc[tIn:tOut] += 1\n",
    "    return count.loc[molecule[0]:t1[molecule].max()]"
   ]
  },
  {
   "cell_type": "code",
   "execution_count": null,
   "metadata": {},
   "outputs": [],
   "source": [
    "df"
   ]
  },
  {
   "cell_type": "code",
   "execution_count": null,
   "metadata": {},
   "outputs": [],
   "source": [
    "close = df['adj_price']\n",
    "close"
   ]
  },
  {
   "cell_type": "code",
   "execution_count": null,
   "metadata": {},
   "outputs": [],
   "source": [
    "numCoEvents = mpNumCoEvents(closeIdx = df.index, t1 = t1, molecule = t1.index)\n",
    "numCoEvents = numCoEvents.loc[~numCoEvents.index.duplicated(keep=\"last\")]\n",
    "numCoEvents=numCoEvents.reindex(close.index).ﬁllna(0)\n",
    "numCoEvents"
   ]
  },
  {
   "cell_type": "code",
   "execution_count": 41,
   "metadata": {},
   "outputs": [],
   "source": [
    "def mpSampleTW(t1, numCoEvents, molecule):\n",
    "    # Derive average uniqueness over the event's lifespan\n",
    "    wght = pd.Series(index=molecule)\n",
    "    for tIn, tOut in t1.loc[wght.index].items():  # Changed from .iteritems() to .items()\n",
    "        wght.loc[tIn] = (1. / numCoEvents.loc[tIn:tOut]).mean()\n",
    "    return wght"
   ]
  },
  {
   "cell_type": "code",
   "execution_count": null,
   "metadata": {},
   "outputs": [],
   "source": [
    "mpSampleTW(t1 = t1, numCoEvents = numCoEvents, molecule = t1.index).mean()"
   ]
  },
  {
   "cell_type": "code",
   "execution_count": 43,
   "metadata": {},
   "outputs": [],
   "source": [
    "# **SNIPPET 4.10** **DETERMINATION OF SAMPLE WEIGHT BY ABSOLUTE RETURN ATTRIBUTION**\n",
    "def mpSampleW(t1, numCoEvents, close, molecule):\n",
    "    # Derive sample weight by return attribution\n",
    "    ret = np.log(close).diff()  # log-returns, so that they are additive\n",
    "    wght = pd.Series(index=molecule)\n",
    "    for tIn, tOut in t1.loc[wght.index].items():  # Changed from iteritems() to items()\n",
    "        wght.loc[tIn] = (ret.loc[tIn:tOut] / numCoEvents.loc[tIn:tOut]).sum()\n",
    "    return wght.abs()"
   ]
  },
  {
   "cell_type": "code",
   "execution_count": null,
   "metadata": {},
   "outputs": [],
   "source": [
    "mpSampleW(t1 = t1, numCoEvents = numCoEvents, close = close, molecule = t1.index)"
   ]
  },
  {
   "cell_type": "code",
   "execution_count": null,
   "metadata": {},
   "outputs": [],
   "source": []
  },
  {
   "cell_type": "markdown",
   "metadata": {},
   "source": [
    "# Fracti diff"
   ]
  },
  {
   "cell_type": "code",
   "execution_count": null,
   "metadata": {},
   "outputs": [],
   "source": [
    "# plot adj_price and stock_exret\n",
    "\n",
    "import matplotlib.pyplot as plt\n",
    "fig, ax1 = plt.subplots()\n",
    "color = 'tab:red'\n",
    "ax1.set_xlabel('time')\n",
    "ax1.set_ylabel('price', color=color)\n",
    "ax1.plot(df.index, df['frac_diff'], color=color)\n",
    "ax1.tick_params(axis='y', labelcolor=color)\n",
    "\n",
    "ax2 = ax1.twinx()\n",
    "color = 'tab:blue'\n",
    "ax2.set_ylabel('stock_exret', color=color)\n",
    "ax2.plot(df.index, df['adj_price'], color=color)\n",
    "ax2.tick_params(axis='y', labelcolor=color)\n",
    "\n",
    "fig.tight_layout()\n",
    "plt.show()"
   ]
  },
  {
   "cell_type": "code",
   "execution_count": null,
   "metadata": {},
   "outputs": [],
   "source": [
    "# SNIPPET 5.3 THE NEW FIXED-WIDTH WINDOW FRACDIFF METHOD\n",
    "def fracDiff_FFD(series, d, thres=1e-5):\n",
    "    '''\n",
    "    Constant width window (new solution)\n",
    "    Note 1: thres determines the cut-off weight for the window\n",
    "    Note 2: d can be any positive fractional, not necessarily bounded [0,1].\n",
    "    '''\n",
    "    #1) Compute weights for the longest series\n",
    "    w = getWeights_FFD(d, thres)\n",
    "    width = len(w) - 1\n",
    "    #2) Apply weights to values\n",
    "    df = {}\n",
    "    for name in series.columns:\n",
    "        # Corrected the fill method to 'ffill'\n",
    "        seriesF, df_ = series[[name]].fillna(method='ffill').dropna(), pd.Series()\n",
    "        for iloc1 in range(width, seriesF.shape[0]):\n",
    "            loc0, loc1 = seriesF.index[iloc1-width], seriesF.index[iloc1]\n",
    "            if not np.isfinite(series.loc[loc1, name]):\n",
    "                continue  # exclude NAs\n",
    "            df_[loc1] = np.dot(w.T, seriesF.loc[loc0:loc1])[0, 0]\n",
    "        df[name] = df_.copy(deep=True)\n",
    "    df = pd.concat(df, axis=1)\n",
    "    return df\n",
    "\n",
    "\n",
    "def getWeights_FFD(d, thres):\n",
    "    # Appends while the last weight is above the threshold\n",
    "    w = [1.]\n",
    "    while abs(w[-1]) > thres:\n",
    "        w_ = -w[-1] / len(w) * (d - len(w) + 1)\n",
    "        w.append(w_)\n",
    "    w = np.array(w[::-1]).reshape(-1, 1)\n",
    "    return w\n",
    "\n",
    "fracDiff_FFD(df[['adj_price']], d=0.5, thres=0.01)"
   ]
  },
  {
   "cell_type": "code",
   "execution_count": null,
   "metadata": {},
   "outputs": [],
   "source": [
    "def plotMinFFD(df, col_name = 'adj_price'):\n",
    "    from statsmodels.tsa.stattools import adfuller\n",
    "    import matplotlib.pyplot as plt\n",
    "    d_found = False\n",
    "    \n",
    "    out = pd.DataFrame(columns=['adfStat', 'pVal', 'lags', 'nObs', '95% conf', 'corr'])\n",
    "    \n",
    "    # Assuming 'Close' is the column name in df\n",
    "    for d in np.linspace(0, 1, 21):\n",
    "        df1 = np.log(df[[col_name]])# .resample('1D').last()  # Downcast to daily observations\n",
    "        df2 = fracDiff_FFD(df1, d, thres=.01)\n",
    "        corr = np.corrcoef(df1.loc[df2.index, col_name], df2[col_name])[0, 1]\n",
    "        adf_result = adfuller(df2[col_name], maxlag=1, regression='c', autolag=None)\n",
    "        out.loc[d] = list(adf_result[:4]) + [adf_result[4]['5%']] + [corr]  # With critical value\n",
    "        print(f'Fractional differentiation order: {d}, ADF Statistic: {adf_result[0]}, Correlation: {corr}')\n",
    "        if not d_found and adf_result[1] < 0.05:\n",
    "            d_found = True\n",
    "            d_req = d\n",
    "            print(f'Fractional differentiation order found: {d_req}')\n",
    "\n",
    "    # Plotting the results\n",
    "    out[['adfStat', 'corr']].plot(secondary_y='adfStat')\n",
    "    plt.axhline(out['95% conf'].mean(), linewidth=1, color='r', linestyle='dotted')\n",
    "    plt.title('ADF Statistic and Correlation vs. Differentiation Order')\n",
    "    plt.show()\n",
    "    \n",
    "    return out, d_req\n",
    "\n",
    "# Assuming 'df' is the DataFrame in the local environment\n",
    "result, d = plotMinFFD(df)"
   ]
  },
  {
   "cell_type": "code",
   "execution_count": null,
   "metadata": {},
   "outputs": [],
   "source": [
    "import matplotlib.pyplot as plt\n",
    "fig, ax1 = plt.subplots()\n",
    "color = 'tab:red'\n",
    "ax1.set_xlabel('time')\n",
    "ax1.set_ylabel('price', color=color)\n",
    "ax1.plot(df.index, df['adj_price'], color=color)\n",
    "ax1.tick_params(axis='y', labelcolor=color)\n",
    "\n",
    "ax2 = ax1.twinx()\n",
    "color = 'tab:blue'\n",
    "ax2.set_ylabel('Fractioned Diff', color=color)\n",
    "col = 'log_price'\n",
    "frac_diff = fracDiff_FFD(df[[col]], d=d, thres=0.01)\n",
    "ax2.plot(frac_diff.index, frac_diff, color=color)\n",
    "ax2.tick_params(axis='y', labelcolor=color)\n",
    "\n",
    "fig.tight_layout()\n",
    "plt.show()"
   ]
  },
  {
   "cell_type": "code",
   "execution_count": null,
   "metadata": {},
   "outputs": [],
   "source": [
    "df[['log_price']]"
   ]
  },
  {
   "cell_type": "code",
   "execution_count": null,
   "metadata": {},
   "outputs": [],
   "source": [
    "frac_diff"
   ]
  },
  {
   "cell_type": "code",
   "execution_count": null,
   "metadata": {},
   "outputs": [],
   "source": [
    "df_ = df.copy()\n",
    "df_['frac'] = frac_diff\n",
    "df_['frac']=df_['frac'].fillna(0)\n",
    "df_"
   ]
  },
  {
   "cell_type": "code",
   "execution_count": null,
   "metadata": {},
   "outputs": [],
   "source": []
  }
 ],
 "metadata": {
  "kernelspec": {
   "display_name": "financial_math",
   "language": "python",
   "name": "python3"
  },
  "language_info": {
   "codemirror_mode": {
    "name": "ipython",
    "version": 3
   },
   "file_extension": ".py",
   "mimetype": "text/x-python",
   "name": "python",
   "nbconvert_exporter": "python",
   "pygments_lexer": "ipython3",
   "version": "3.8.19"
  }
 },
 "nbformat": 4,
 "nbformat_minor": 2
}
