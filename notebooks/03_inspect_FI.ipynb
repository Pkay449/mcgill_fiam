{
 "cells": [
  {
   "cell_type": "code",
   "execution_count": 1,
   "metadata": {},
   "outputs": [],
   "source": [
    "import numpy as np\n",
    "import pandas as pd\n",
    "import pickle"
   ]
  },
  {
   "cell_type": "code",
   "execution_count": 2,
   "metadata": {},
   "outputs": [],
   "source": [
    "stacked_data = pd.read_pickle('../objects/stacked_data.pkl')"
   ]
  },
  {
   "cell_type": "code",
   "execution_count": null,
   "metadata": {},
   "outputs": [],
   "source": [
    "na_stacked = stacked_data[stacked_data.isna().any(axis=1)]\n",
    "na_stacked"
   ]
  },
  {
   "cell_type": "code",
   "execution_count": null,
   "metadata": {},
   "outputs": [],
   "source": [
    "X_dataset = pd.read_pickle('../objects/X_dataset.pkl')\n",
    "na_X = X_dataset[X_dataset.isna().any(axis=1)]\n",
    "na_X"
   ]
  },
  {
   "cell_type": "markdown",
   "metadata": {},
   "source": [
    "---"
   ]
  },
  {
   "cell_type": "markdown",
   "metadata": {},
   "source": [
    "## Inpsect Appl"
   ]
  },
  {
   "cell_type": "code",
   "execution_count": null,
   "metadata": {},
   "outputs": [],
   "source": [
    "# Now let's check if the index is correctly set when reading the saved file\n",
    "path = '../stocks_data/AAPL_03783310_14593.csv'\n",
    "df = pd.read_csv(path, index_col='datetime', parse_dates=True)  # Parse datetime and set as index\n",
    "\n",
    "path = '../raw_data/factor_char_list.csv'\n",
    "features = pd.read_csv(path)\n",
    "features_list = features.values.ravel().tolist()\n",
    "# Add created features\n",
    "added_features = ['log_diff', 'frac_diff']\n",
    "features_list+=added_features\n",
    "appl_X = df[features_list]\n",
    "# reset index, don't drop it\n",
    "appl_X.reset_index(inplace=True)\n",
    "\n",
    "# rows with any NaN values\n",
    "na_appl= appl_X[appl_X.isna().any(axis=1)]\n",
    "\n",
    "na_appl"
   ]
  },
  {
   "cell_type": "code",
   "execution_count": null,
   "metadata": {},
   "outputs": [],
   "source": []
  }
 ],
 "metadata": {
  "kernelspec": {
   "display_name": "financial_math",
   "language": "python",
   "name": "python3"
  },
  "language_info": {
   "codemirror_mode": {
    "name": "ipython",
    "version": 3
   },
   "file_extension": ".py",
   "mimetype": "text/x-python",
   "name": "python",
   "nbconvert_exporter": "python",
   "pygments_lexer": "ipython3",
   "version": "3.8.19"
  }
 },
 "nbformat": 4,
 "nbformat_minor": 2
}
