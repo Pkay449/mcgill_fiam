{
 "cells": [
  {
   "cell_type": "markdown",
   "metadata": {},
   "source": [
    "\"1.3.1.4 Backtesters\n",
    "This station assesses the profitability of an investment strategy under various sce-\n",
    "narios. One of the scenarios of interest is how the strategy would perform if history\n",
    "repeated itself. However, the historical path is merely one of the possible outcomes of\n",
    "a stochastic process, and not necessarily the most likely going forward. Alternative\n",
    "scenarios must be evaluated, consistent with the knowledge of the weaknesses and\n",
    "strengths of a proposed strategy. Team members are data scientists with a deep under-\n",
    "standing of empirical and experimental techniques. \"\n",
    "\n",
    "What is 'empirical'? Can you elaborate on 'empirical and experimental techniques'?"
   ]
  },
  {
   "cell_type": "markdown",
   "metadata": {},
   "source": [
    "The term \"empirical\" refers to methods and techniques based on observation or experience, rather than theories or pure logic. In the context of data science and finance, empirical techniques involve analyzing actual data collected through observations or historical records to understand patterns, test theories, or make predictions. This approach is fundamental in fields where outcomes and phenomena are not always predictable solely by theoretical models but require validation through real-world data.\n",
    "\n",
    "**Empirical techniques** often include:\n",
    "- **Statistical Analysis**: Using statistical methods to interpret data and draw conclusions.\n",
    "- **Regression Analysis**: Modeling the relationships between variables to see how they influence each other.\n",
    "- **Time Series Analysis**: Analyzing data points collected or indexed in time order to forecast future values based on past trends.\n",
    "\n",
    "**Experimental techniques**, on the other hand, involve setting up experiments to test hypotheses under controlled conditions. In finance, this might involve creating simulations or models to test how different financial strategies would perform under various controlled scenarios. This allows researchers and analysts to isolate specific factors and understand their effects without the noise of real-world variability.\n",
    "\n",
    "Combining empirical and experimental techniques allows financial analysts and data scientists to:\n",
    "- Validate theories using real data.\n",
    "- Explore the impact of changing variables in a controlled environment.\n",
    "- Enhance the robustness and reliability of financial strategies by testing them against historical data and simulated future scenarios.\n",
    "\n",
    "Together, these approaches provide a comprehensive toolkit for developing, testing, and refining investment strategies, ensuring they are not only theoretically sound but also practically viable under different conditions."
   ]
  },
  {
   "cell_type": "markdown",
   "metadata": {},
   "source": [
    "---"
   ]
  },
  {
   "cell_type": "markdown",
   "metadata": {},
   "source": []
  }
 ],
 "metadata": {
  "kernelspec": {
   "display_name": "applied-math-env",
   "language": "python",
   "name": "python3"
  },
  "language_info": {
   "name": "python",
   "version": "3.8.19"
  }
 },
 "nbformat": 4,
 "nbformat_minor": 2
}
