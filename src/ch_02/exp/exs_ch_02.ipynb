{
 "cells": [
  {
   "cell_type": "code",
   "execution_count": null,
   "metadata": {},
   "outputs": [],
   "source": [
    "import pandas as pd\n",
    "import numpy as np\n",
    "import seaborn as sns\n",
    "import matplotlib.pyplot as plt"
   ]
  },
  {
   "cell_type": "code",
   "execution_count": null,
   "metadata": {},
   "outputs": [],
   "source": [
    "import os\n",
    "\n",
    "# Run the setup script\n",
    "%run ../config/setup_project.py\n",
    "\n",
    "# Call the function to set up the project path\n",
    "setup_project_path()\n",
    "\n",
    "# Now you can import your modules\n",
    "from src.utils import helper as h_\n",
    "import code_ch_02 as f_\n",
    "\n",
    "\n"
   ]
  },
  {
   "cell_type": "code",
   "execution_count": null,
   "metadata": {},
   "outputs": [],
   "source": [
    "df = pd.read_parquet('../Data/IVE_tickbidask.parq')\n",
    "df"
   ]
  },
  {
   "cell_type": "code",
   "execution_count": null,
   "metadata": {},
   "outputs": [],
   "source": [
    "# Later, you can read it back\n",
    "df = pd.read_parquet('../Data/IVE_kibot.parq')\n",
    "df"
   ]
  },
  {
   "cell_type": "code",
   "execution_count": null,
   "metadata": {},
   "outputs": [],
   "source": [
    "print(df.info())"
   ]
  },
  {
   "cell_type": "markdown",
   "metadata": {},
   "source": [
    "## Some Preprocessing"
   ]
  },
  {
   "cell_type": "code",
   "execution_count": null,
   "metadata": {},
   "outputs": [],
   "source": [
    "# Some data visualization on df\n",
    "# Boxplots for each column\n",
    "df[['price', 'bid', 'ask', 'size', 'v', 'dv']].plot(kind='box', subplots=True, layout=(2, 3), figsize=(15, 10))\n",
    "plt.show()"
   ]
  },
  {
   "cell_type": "code",
   "execution_count": null,
   "metadata": {},
   "outputs": [],
   "source": [
    "# function to dectect, in a dataframe, rows where value is outside \n",
    "# [Q1, Q3] + 1.5 * IQR\n",
    "\n",
    "def detect_outliers(df: pd.DataFrame, col: str='price', threshold: float=1.5):\n",
    "    \"\"\"Returns boolean series where True indicates the presence of an outlier\"\"\"\n",
    "    Q1 = df[col].quantile(0.25)\n",
    "    Q3 = df[col].quantile(0.75)\n",
    "    IQR = Q3 - Q1\n",
    "    lower_bound = Q1 - threshold * IQR\n",
    "    upper_bound = Q3 + threshold * IQR\n",
    "    return (df[col] < lower_bound) | (df[col] > upper_bound)\n",
    "\n",
    "outliers = detect_outliers(df)"
   ]
  },
  {
   "cell_type": "code",
   "execution_count": null,
   "metadata": {},
   "outputs": [],
   "source": [
    "df = df.loc[~outliers]\n",
    "df[['price', 'bid', 'ask', 'size', 'v', 'dv']].plot(kind='box', subplots=True, layout=(2, 3), figsize=(15, 10))\n",
    "plt.show()"
   ]
  },
  {
   "cell_type": "code",
   "execution_count": null,
   "metadata": {},
   "outputs": [],
   "source": [
    "# scale columns\n"
   ]
  },
  {
   "cell_type": "code",
   "execution_count": null,
   "metadata": {},
   "outputs": [],
   "source": []
  },
  {
   "cell_type": "code",
   "execution_count": null,
   "metadata": {},
   "outputs": [],
   "source": []
  },
  {
   "cell_type": "markdown",
   "metadata": {},
   "source": [
    "# Exercises"
   ]
  },
  {
   "cell_type": "code",
   "execution_count": null,
   "metadata": {},
   "outputs": [],
   "source": [
    "\"\"\"\n",
    "2.1 On a series of E-mini S&P 500 futures tick data:\n",
    "(a) Form tick, volume, and dollar bars. Use the ETF trick to deal with the roll.\n",
    "(b) Count the number of bars produced by tick, volume, and dollar bars on a\n",
    "weekly basis. Plot a time series of that bar count. What bar type produces\n",
    "the most stable weekly count? Why?\n",
    "(c) Compute the serial correlation of returns for the three bar types. What bar method has the lowest serial correlation?\n",
    "(d)\n",
    "(e)\n",
    "Partitionthebarseriesintomonthlysubsets.Computethevarianceofreturns for every subset of every bar type. Compute the variance of those variances. What method exhibits the smallest variance of variances?\n",
    "Apply the Jarque-Bera normality test on returns from the three bar types. What method achieves the lowest test statistic?\n",
    "\"\"\""
   ]
  },
  {
   "cell_type": "markdown",
   "metadata": {},
   "source": [
    "## 2.1 On a series of E-mini S&P 500 futures tick data:"
   ]
  },
  {
   "cell_type": "markdown",
   "metadata": {},
   "source": [
    "##### (a) Form tick, volume, and dollar bars. Use the ETF trick to deal with the roll."
   ]
  },
  {
   "cell_type": "code",
   "execution_count": null,
   "metadata": {},
   "outputs": [],
   "source": [
    "\"\"\"2.1 On a series of E-mini S&P 500 futures tick data:\n",
    "(a) Form tick, volume, and dollar bars. Use the ETF trick to deal with the roll.\n",
    "\"\"\"\n",
    "# import pandas as pd\n",
    "# import numpy as np\n",
    "# import matplotlib.pyplot as plt\n",
    "# import seaborn as sns\n",
    "\n",
    "# from abc import ABC, abstractmethod\n",
    "# from enum import Enum\n",
    "\n",
    "# class BarType(Enum):\n",
    "#     TICK = 'tick'\n",
    "#     VOLUME = 'volume'\n",
    "#     DOLLAR = 'dollar'\n",
    "\n",
    "# class BarSampling(ABC):\n",
    "#     @property\n",
    "#     @abstractmethod\n",
    "#     def units(self):\n",
    "#         \"\"\"Returns:\n",
    "#         {'column': col name, 'Accumulate': boolean indicating accumulation}\n",
    "#         \"\"\"\n",
    "#         pass\n",
    "\n",
    "#     def sample(self, df: pd.DataFrame, threshold: int = 1_000):\n",
    "#         \"\"\"df with columns such as 'price', 'v', 'dv'\n",
    "#         Returns a list of indices of sampled bars\"\"\"\n",
    "#         t = df[self.units['column']]\n",
    "#         ts = 0\n",
    "#         idx = []\n",
    "#         for i, x in enumerate(t):\n",
    "#             ts += x if self.units['Accumulate'] else 1\n",
    "#             if ts >= threshold:\n",
    "#                 idx.append(i)\n",
    "#                 ts = 0\n",
    "#         return idx\n",
    "\n",
    "# class TickBar_Sampling(BarSampling):\n",
    "#     @property\n",
    "#     def units(self):\n",
    "#         return {'column': 'price', 'Accumulate': False}\n",
    "\n",
    "# class VolumeBar_Sampling(BarSampling):\n",
    "#     @property\n",
    "#     def units(self):\n",
    "#         return {'column': 'v', 'Accumulate': True}\n",
    "\n",
    "# class DollarBar_Sampling(BarSampling):\n",
    "#     @property\n",
    "#     def units(self):\n",
    "#         return {'column': 'dv', 'Accumulate': True}\n",
    "    \n",
    "# class BarSampler:\n",
    "#     def sample(self, df: pd.DataFrame, bar_type: BarType, threshold: int = 1_000):\n",
    "#         \"\"\"\n",
    "#         df: DataFrame with columns such as 'price', 'v', 'dv'\n",
    "        \n",
    "#         bar_type: {'tick', 'volume', 'dollar'}\n",
    "        \n",
    "#         threshold: int, default 1_000\n",
    "        \n",
    "#         Returns a list of indices of sampled bars\n",
    "        \n",
    "#         \"\"\"\n",
    "#         if bar_type == BarType.TICK:\n",
    "#             sampler = TickBar_Sampling()\n",
    "#         elif bar_type == BarType.VOLUME:\n",
    "#             sampler = VolumeBar_Sampling()\n",
    "#         elif bar_type == BarType.DOLLAR:\n",
    "#             sampler = DollarBar_Sampling()\n",
    "#         else:\n",
    "#             raise ValueError(f'Bar type {bar_type} not supported')\n",
    "        \n",
    "#         indices = sampler.sample(df, threshold)\n",
    "#         return indices\n",
    "    \n",
    "#     def plot_bars(self, df: pd.DataFrame, threshold: int = 1_000):\n",
    "#         \"\"\"Plot the price series with markers for tick, volume, and dollar bars\"\"\"\n",
    "#         fig, ax = plt.subplots(figsize=(14, 7))\n",
    "        \n",
    "#         # Plot the price series\n",
    "#         ax.plot(df.index, df['price'], label='Price', color='black', alpha=0.5)\n",
    "        \n",
    "#         # Sample and plot Tick bars\n",
    "#         tick_indices = self.sample(df, BarType.TICK, threshold=threshold)\n",
    "#         ax.plot(df.index[tick_indices], df['price'].iloc[tick_indices], 'o', markersize=5, label='Tick Bars', color='blue')\n",
    "        \n",
    "#         # Sample and plot Volume bars\n",
    "#         volume_indices = self.sample(df, BarType.VOLUME, threshold=threshold)\n",
    "#         ax.plot(df.index[volume_indices], df['price'].iloc[volume_indices], 's', markersize=5, label='Volume Bars', color='red')\n",
    "        \n",
    "#         # Sample and plot Dollar bars\n",
    "#         dollar_indices = self.sample(df, BarType.DOLLAR, threshold=threshold)\n",
    "#         ax.plot(df.index[dollar_indices], df['price'].iloc[dollar_indices], '^', markersize=5, label='Dollar Bars', color='green')\n",
    "        \n",
    "#         # Add titles and labels\n",
    "#         ax.set_title('Price Series with Tick, Volume, and Dollar Bars')\n",
    "#         ax.set_xlabel('Time')\n",
    "#         ax.set_ylabel('Price')\n",
    "        \n",
    "#         # Add a legend\n",
    "#         ax.legend()\n",
    "        \n",
    "#         # Add a grid for better readability\n",
    "#         ax.grid(True)\n",
    "        \n",
    "#         # Display the plot\n",
    "#         plt.show()\n"
   ]
  },
  {
   "cell_type": "code",
   "execution_count": null,
   "metadata": {},
   "outputs": [],
   "source": [
    "       \n",
    "sampler = f_.BarSampler(df, ImbalanceBar=False)\n",
    "\n",
    "tick_bars = sampler.sample(f_.BarType.VOLUME, thresh_mult=2.0)\n",
    "len(tick_bars)"
   ]
  },
  {
   "cell_type": "code",
   "execution_count": null,
   "metadata": {},
   "outputs": [],
   "source": [
    "TICK_THRESH = 30\n",
    "MULT_THRESH = 20.0\n",
    "\n",
    "\n",
    "tick_bars = sampler.sample(f_.BarType.TICK, threshold=TICK_THRESH)\n",
    "volume_bars = sampler.sample(f_.BarType.VOLUME, thresh_mult=MULT_THRESH)\n",
    "dollar_bars = sampler.sample(f_.BarType.DOLLAR, thresh_mult=MULT_THRESH)\n",
    "\n",
    "price_tickBars = df['price'].iloc[tick_bars]\n",
    "price_volumeBars = df['price'].iloc[volume_bars]\n",
    "price_dollarBars = df['price'].iloc[dollar_bars]\n",
    "\n",
    "# stats for each bar type (avg, std, ... )\n",
    "print(\"Tick Bars\")\n",
    "print(price_tickBars.describe())\n",
    "print()\n",
    "print(\"Volume Bars\")\n",
    "print(price_volumeBars.describe())\n",
    "print()\n",
    "print(\"Dollar Bars\")\n",
    "print(price_dollarBars.describe())"
   ]
  },
  {
   "cell_type": "code",
   "execution_count": null,
   "metadata": {},
   "outputs": [],
   "source": [
    "# plot histogram of tick, volume, and dollar bars\n",
    "fig, ax = plt.subplots(3, 1, figsize=(14, 10))\n",
    "\n",
    "sns.histplot(price_tickBars, bins=20, kde=True, color='blue', ax=ax[0])\n",
    "ax[0].set_title('Tick Bars')\n",
    "\n",
    "sns.histplot(price_volumeBars, bins=20, kde=True, color='red', ax=ax[1])\n",
    "ax[1].set_title('Volume Bars')\n",
    "\n",
    "sns.histplot(price_dollarBars, bins=20, kde=True, color='green', ax=ax[2])\n",
    "ax[2].set_title('Dollar Bars')"
   ]
  },
  {
   "cell_type": "markdown",
   "metadata": {},
   "source": [
    "##### (b) Count the number of bars produced by tick, volume, and dollar bars on a weekly basis. Plot a time series of that bar count. What bar type produces the most stable weekly count? Why?"
   ]
  },
  {
   "cell_type": "code",
   "execution_count": null,
   "metadata": {},
   "outputs": [],
   "source": [
    "\"\"\"(b) Count the number of bars produced by tick, volume, and dollar bars on a \n",
    "weekly basis. Plot a time series of that bar count. What bar type produces the \n",
    "most stable weekly count? Why?\n",
    "\"\"\"\n",
    "print(price_volumeBars.info())"
   ]
  },
  {
   "cell_type": "code",
   "execution_count": null,
   "metadata": {},
   "outputs": [],
   "source": [
    "tick_counts, volume_counts, dollar_counts = sampler.plot_weekly_counts(threshold=TICK_THRESH, thresh_mult=MULT_THRESH)"
   ]
  },
  {
   "cell_type": "code",
   "execution_count": null,
   "metadata": {},
   "outputs": [],
   "source": [
    "# stats for each bar type (avg, std, ... )\n",
    "print(\"Tick Bars\")\n",
    "print(tick_counts.describe())\n",
    "print()\n",
    "print(\"Volume Bars\")\n",
    "print(volume_counts.describe())\n",
    "print()\n",
    "print(\"Dollar Bars\")\n",
    "print(dollar_counts.describe())"
   ]
  },
  {
   "cell_type": "markdown",
   "metadata": {},
   "source": [
    "### (c) c) Compute the serial correlation of returns for the three bar types. What bar method has the lowest serial correlation?"
   ]
  },
  {
   "cell_type": "code",
   "execution_count": null,
   "metadata": {},
   "outputs": [],
   "source": [
    "\"\"\"c) Compute the serial correlation of returns for the three bar types. What bar\n",
    "method has the lowest serial correlation?\n",
    "\"\"\"\n",
    "\n",
    "# price_tickBars, price_volumeBars, price_dollarBars\n",
    "\n",
    "def returns(s: pd.Series):\n",
    "    return np.log(s).diff().dropna()\n",
    "\n",
    "def serial_corr(bars: pd.Series):\n",
    "    return bars.autocorr()\n",
    "\n",
    "tick_returns = returns(price_tickBars)\n",
    "volume_returns = returns(price_volumeBars)\n",
    "dollar_returns = returns(price_dollarBars)\n",
    "\n",
    "print(\"Serial Correlation of Returns\")\n",
    "print(\"Tick Bars:\", serial_corr(tick_returns))\n",
    "print(\"Volume Bars:\", serial_corr(volume_returns))\n",
    "print(\"Dollar Bars:\", serial_corr(dollar_returns))\n",
    "\n",
    "# compared to serial correlation of all returns\n",
    "all_returns = returns(df['price'])\n",
    "print(\"Serial Correlation of All Returns:\", serial_corr(all_returns))\n",
    "\n",
    "\n",
    "\n"
   ]
  },
  {
   "cell_type": "markdown",
   "metadata": {},
   "source": [
    "#### d) Partition the bar series into monthly subsets. Compute the variance of returns for every subset of every bar type. Compute the variance of those variances. What method exhibits the smallest variance of variances?"
   ]
  },
  {
   "cell_type": "code",
   "execution_count": null,
   "metadata": {},
   "outputs": [],
   "source": [
    "\"\"\"d) Partition the bar series into monthly subsets. Compute the variance of returns\n",
    "for every subset of every bar type. Compute the variance of those variances.\n",
    "What method exhibits the smallest variance of variances?\n",
    "\"\"\"\n",
    "\n",
    "import pandas as pd\n",
    "import numpy as np\n",
    "\n",
    "# Define a function to compute log returns\n",
    "def compute_returns(price_series):\n",
    "    return np.log(price_series).diff().dropna()\n",
    "\n",
    "# Define a function to partition the series into monthly subsets\n",
    "def partition_monthly(series):\n",
    "    return series.groupby([series.index.month])\n",
    "\n",
    "# Define a function to compute the variance of returns for each subset\n",
    "def compute_monthly_variance(partitioned_series):\n",
    "    monthly_variances = partitioned_series.apply(lambda x: compute_returns(x).var())\n",
    "    return monthly_variances\n",
    "\n",
    "# Define a function to compute the variance of variances\n",
    "def compute_variance_of_variances(monthly_variances):\n",
    "    return monthly_variances.var()\n",
    "\n",
    "# Compute the variance of variances for each bar type\n",
    "def variance_of_variances(price_series):\n",
    "    partitioned_series = partition_monthly(price_series)\n",
    "    monthly_variances = compute_monthly_variance(partitioned_series)\n",
    "    variance_of_var = compute_variance_of_variances(monthly_variances)\n",
    "    return variance_of_var\n",
    "\n",
    "# Assuming price_tickBars, price_volumeBars, and price_dollarBars are defined\n",
    "variance_tick = variance_of_variances(price_tickBars)\n",
    "variance_volume = variance_of_variances(price_volumeBars)\n",
    "variance_dollar = variance_of_variances(price_dollarBars)\n",
    "\n",
    "\n",
    "print(f\"Variance of Variances for Tick Bars: {variance_tick}\")\n",
    "print(f\"Variance of Variances for Volume Bars: {variance_volume}\")\n",
    "print(f\"Variance of Variances for Dollar Bars: {variance_dollar}\")\n",
    "\n",
    "# Determine which bar type exhibits the smallest variance of variances\n",
    "bar_types = [\"Tick Bars\", \"Volume Bars\", \"Dollar Bars\"]\n",
    "variances = [variance_tick, variance_volume, variance_dollar]\n",
    "\n",
    "smallest_variance_of_variances = bar_types[np.argmin(variances)]\n",
    "print(f\"The bar type with the smallest variance of variances is: {smallest_variance_of_variances}\")\n"
   ]
  },
  {
   "cell_type": "markdown",
   "metadata": {},
   "source": [
    "### (e) Apply the Jarque-Bera normality test on returns from the three bar types. What method achieves the lowest test statistic?"
   ]
  },
  {
   "cell_type": "code",
   "execution_count": null,
   "metadata": {},
   "outputs": [],
   "source": [
    "\"\"\"(e) Apply the Jarque-Bera normality test on returns from the three bar types.\n",
    "What method achieves the lowest test statistic?\n",
    "\"\"\"\n",
    "\n",
    "import pandas as pd\n",
    "import numpy as np\n",
    "from scipy.stats import jarque_bera\n",
    "\n",
    "# Define a function to compute log returns\n",
    "def compute_returns(price_series):\n",
    "    return np.log(price_series).diff().dropna()\n",
    "\n",
    "# Compute the Jarque-Bera test statistic and p-value\n",
    "def compute_jarque_bera(returns):\n",
    "    return jarque_bera(returns)\n",
    "\n",
    "# Assuming price_tickBars, price_volumeBars, and price_dollarBars are defined\n",
    "tick_returns = compute_returns(price_tickBars)\n",
    "volume_returns = compute_returns(price_volumeBars)\n",
    "dollar_returns = compute_returns(price_dollarBars)\n",
    "\n",
    "# Compute the Jarque-Bera test for each bar type\n",
    "jb_tick = compute_jarque_bera(tick_returns)\n",
    "jb_volume = compute_jarque_bera(volume_returns)\n",
    "jb_dollar = compute_jarque_bera(dollar_returns)\n",
    "\n",
    "print(f\"Jarque-Bera Test for Tick Bars: Statistic={jb_tick.statistic}, p-value={jb_tick.pvalue}\")\n",
    "print(f\"Jarque-Bera Test for Volume Bars: Statistic={jb_volume.statistic}, p-value={jb_volume.pvalue}\")\n",
    "print(f\"Jarque-Bera Test for Dollar Bars: Statistic={jb_dollar.statistic}, p-value={jb_dollar.pvalue}\")\n",
    "\n",
    "# Determine which method achieves the lowest test statistic\n",
    "jb_statistics = {\n",
    "    \"Tick Bars\": jb_tick.statistic,\n",
    "    \"Volume Bars\": jb_volume.statistic,\n",
    "    \"Dollar Bars\": jb_dollar.statistic\n",
    "}\n",
    "\n",
    "lowest_jb = min(jb_statistics, key=jb_statistics.get)\n",
    "print(f\"The method with the lowest Jarque-Bera test statistic is: {lowest_jb}\")\n"
   ]
  },
  {
   "cell_type": "code",
   "execution_count": null,
   "metadata": {},
   "outputs": [],
   "source": [
    "price_dollarBars"
   ]
  },
  {
   "cell_type": "markdown",
   "metadata": {},
   "source": [
    "## 2.2 On a series of E-mini S&P 500 futures tick data, compute dollar bars and dollar imbalance bars. What bar type exhibits greater serial correlation? Why?"
   ]
  },
  {
   "cell_type": "code",
   "execution_count": null,
   "metadata": {},
   "outputs": [],
   "source": [
    "\"\"\"On a series of E-mini S&P 500 futures tick data, compute dollar bars\n",
    "and dollar imbalance bars. What bar type exhibits greater serial correlation?\n",
    "Why?\n",
    "\"\"\""
   ]
  },
  {
   "cell_type": "code",
   "execution_count": null,
   "metadata": {},
   "outputs": [],
   "source": [
    "# Just years 2020>\n",
    "df_sample = df.loc['2023':]\n",
    "T0 = 50\n",
    "\n",
    "# sampler = f_.BarSampler(df_sample, ImbalanceBar=True)\n",
    "\n",
    "# ids = sampler.sample(f_.BarType.VOLUME, t0 = T0)\n",
    "# ids"
   ]
  },
  {
   "cell_type": "code",
   "execution_count": null,
   "metadata": {},
   "outputs": [],
   "source": [
    "imbalance_smapler = f_.BarSampler(df_sample, ImbalanceBar=True)\n",
    "\n",
    "samples = imbalance_smapler.sample(f_.BarType.DOLLAR, t0=T0)\n",
    "samples"
   ]
  },
  {
   "cell_type": "code",
   "execution_count": null,
   "metadata": {},
   "outputs": [],
   "source": [
    "# histogram of prices at indices 'samples'\n",
    "\n",
    "df_sample['price'].iloc[samples]\n",
    "\n",
    "tmp = df_sample['price'].iloc[samples]\n",
    "sns.histplot(tmp, bins=20, kde=True, color='blue')\n",
    "plt.title('Dollar Imbalance Bars')\n",
    "plt.show()\n"
   ]
  },
  {
   "cell_type": "code",
   "execution_count": null,
   "metadata": {},
   "outputs": [],
   "source": [
    "\n",
    "\n",
    "\n",
    "results = imbalance_smapler.parallel_sample(t0=T0)\n",
    "\n",
    "tick_ImbBars, volume_ImbBars, dollar_ImbBars = results.values()\n"
   ]
  },
  {
   "cell_type": "code",
   "execution_count": null,
   "metadata": {},
   "outputs": [],
   "source": [
    "tick_ImbBars"
   ]
  },
  {
   "cell_type": "code",
   "execution_count": null,
   "metadata": {},
   "outputs": [],
   "source": [
    "\n",
    "price_tickImbBars = df['price'].iloc[tick_ImbBars]\n",
    "price_volumeImbBars = df['price'].iloc[volume_ImbBars]\n",
    "price_dollarImbBars = df['price'].iloc[dollar_ImbBars]\n",
    "\n",
    "# stats for each bar type (avg, std, ... )\n",
    "print(\"Tick Imbalance Bars\")\n",
    "print(price_tickImbBars.describe())\n",
    "print()\n",
    "print(\"Volume Imbalance Bars\")\n",
    "print(price_volumeImbBars.describe())\n",
    "print()\n",
    "print(\"Dollar Imbalance Bars\")\n",
    "print(price_dollarImbBars.describe())\n",
    "\n",
    "def returns(s: pd.Series):\n",
    "    return np.log(s).diff().dropna()\n",
    "\n",
    "def serial_corr(bars: pd.Series):\n",
    "    return bars.autocorr()\n",
    "\n",
    "tickImb_returns = returns(price_tickImbBars)\n",
    "volumeImb_returns = returns(price_volumeImbBars)\n",
    "dollarImb_returns = returns(price_dollarImbBars)\n",
    "\n",
    "print(\"Serial Correlation of Returns\")\n",
    "print(\"Tick Imbalance Bars:\", serial_corr(tickImb_returns))\n",
    "print(\"Volume Imbalance Bars:\", serial_corr(volumeImb_returns))\n",
    "print(\"Dollar Imbalance Bars:\", serial_corr(dollarImb_returns))\n",
    "\n",
    "# compared to serial correlation of all returns\n",
    "all_returns = returns(df['price'])\n",
    "print(\"Serial Correlation of All Returns:\", serial_corr(all_returns))\n",
    "\n"
   ]
  },
  {
   "cell_type": "code",
   "execution_count": null,
   "metadata": {},
   "outputs": [],
   "source": [
    "\"\"\"\n",
    "Moments for each (kurto, skew, ...)\n",
    "tickImb_returns\n",
    "volumeImb_returns\n",
    "dollarImb_returns \n",
    "\"\"\"\n",
    "\n",
    "print(\"Moments for each bar type\")\n",
    "print(\"Tick Imbalance Bars\")\n",
    "print(\"Kurtosis:\", tickImb_returns.kurtosis())\n",
    "print(\"Skewness:\", tickImb_returns.skew())\n",
    "print()\n",
    "print(\"Volume Imbalance Bars\")\n",
    "print(\"Kurtosis:\", volumeImb_returns.kurtosis())\n",
    "print(\"Skewness:\", volumeImb_returns.skew())\n",
    "print()\n",
    "print(\"Dollar Imbalance Bars\")\n",
    "print(\"Kurtosis:\", dollarImb_returns.kurtosis())\n",
    "print(\"Skewness:\", dollarImb_returns.skew())\n",
    "\n",
    "\n"
   ]
  },
  {
   "cell_type": "code",
   "execution_count": null,
   "metadata": {},
   "outputs": [],
   "source": [
    "tickImb_returns"
   ]
  },
  {
   "cell_type": "code",
   "execution_count": null,
   "metadata": {},
   "outputs": [],
   "source": []
  },
  {
   "cell_type": "code",
   "execution_count": null,
   "metadata": {},
   "outputs": [],
   "source": []
  },
  {
   "cell_type": "code",
   "execution_count": null,
   "metadata": {},
   "outputs": [],
   "source": []
  },
  {
   "cell_type": "code",
   "execution_count": null,
   "metadata": {},
   "outputs": [],
   "source": []
  },
  {
   "cell_type": "code",
   "execution_count": null,
   "metadata": {},
   "outputs": [],
   "source": []
  }
 ],
 "metadata": {
  "kernelspec": {
   "display_name": "allennlp_env",
   "language": "python",
   "name": "python3"
  },
  "language_info": {
   "codemirror_mode": {
    "name": "ipython",
    "version": 3
   },
   "file_extension": ".py",
   "mimetype": "text/x-python",
   "name": "python",
   "nbconvert_exporter": "python",
   "pygments_lexer": "ipython3",
   "version": "3.8.19"
  }
 },
 "nbformat": 4,
 "nbformat_minor": 2
}
