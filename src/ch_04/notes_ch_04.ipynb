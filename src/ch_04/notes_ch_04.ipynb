{
 "cells": [
  {
   "cell_type": "code",
   "execution_count": 14,
   "metadata": {},
   "outputs": [
    {
     "name": "stdout",
     "output_type": "stream",
     "text": [
      "The watermark extension is already loaded. To reload it, use:\n",
      "  %reload_ext watermark\n",
      "Last updated: 2024-09-18T14:45:52.590409-04:00\n",
      "\n",
      "Python implementation: CPython\n",
      "Python version       : 3.8.19\n",
      "IPython version      : 8.12.2\n",
      "\n",
      "Compiler    : Clang 16.0.6 \n",
      "OS          : Darwin\n",
      "Release     : 23.6.0\n",
      "Machine     : arm64\n",
      "Processor   : arm\n",
      "CPU cores   : 8\n",
      "Architecture: 64bit\n",
      "\n",
      "The autoreload extension is already loaded. To reload it, use:\n",
      "  %reload_ext autoreload\n",
      "\n"
     ]
    },
    {
     "name": "stderr",
     "output_type": "stream",
     "text": [
      "/var/folders/j0/8v9qcjfx15g5ftmsy5n0qrq80000gn/T/ipykernel_40702/2173331131.py:46: MatplotlibDeprecationWarning: The seaborn styles shipped by Matplotlib are deprecated since 3.6, as they no longer correspond to the styles shipped by seaborn. However, they will remain available as 'seaborn-v0_8-<style>'. Alternatively, directly use the seaborn API instead.\n",
      "  plt.style.use('seaborn-talk')\n"
     ]
    }
   ],
   "source": [
    "%load_ext watermark\n",
    "%watermark\n",
    "\n",
    "%load_ext autoreload\n",
    "%autoreload 2\n",
    "\n",
    "\n",
    "# import standard libs\n",
    "from IPython.display import display\n",
    "from IPython.core.debugger import set_trace as bp\n",
    "from pathlib import PurePath, Path\n",
    "import sys\n",
    "import time\n",
    "from collections import OrderedDict as od\n",
    "import re\n",
    "import os\n",
    "import json\n",
    "import datetime\n",
    "import pickle\n",
    "\n",
    "\n",
    "# import python scientific stack\n",
    "import pandas as pd\n",
    "import pandas_datareader.data as web\n",
    "pd.set_option('display.max_rows', 10)\n",
    "from dask import dataframe as dd\n",
    "from dask.diagnostics import ProgressBar\n",
    "from multiprocessing import cpu_count\n",
    "pbar = ProgressBar()\n",
    "pbar.register()\n",
    "import numpy as np\n",
    "import scipy.stats as stats\n",
    "import statsmodels.api as sm\n",
    "from numba import jit\n",
    "import math\n",
    "# import ffn\n",
    "\n",
    "\n",
    "# import visual tools\n",
    "import matplotlib as mpl\n",
    "import matplotlib.pyplot as plt\n",
    "import matplotlib.gridspec as gridspec\n",
    "%matplotlib inline\n",
    "import seaborn as sns\n",
    "\n",
    "plt.style.use('seaborn-talk')\n",
    "plt.style.use('bmh')\n",
    "#plt.rcParams['font.family'] = 'DejaVu Sans Mono'\n",
    "plt.rcParams['font.size'] = 9.5\n",
    "plt.rcParams['font.weight'] = 'medium'\n",
    "plt.rcParams['figure.figsize'] = 10,7\n",
    "blue, green, red, purple, gold, teal = sns.color_palette('colorblind', 6)\n",
    "\n",
    "RANDOM_STATE = 777\n",
    "\n",
    "print()"
   ]
  },
  {
   "cell_type": "code",
   "execution_count": 15,
   "metadata": {},
   "outputs": [
    {
     "name": "stdout",
     "output_type": "stream",
     "text": [
      "Project root added to sys.path: /Users/paulkelendji/Desktop/GitHub_paul/ML-Asset_Management\n",
      "Config path added to sys.path: /Users/paulkelendji/Desktop/GitHub_paul/ML-Asset_Management/config\n",
      "Current sys.path: ['/Users/paulkelendji/miniconda3/envs/financial_math/lib/python38.zip', '/Users/paulkelendji/miniconda3/envs/financial_math/lib/python3.8', '/Users/paulkelendji/miniconda3/envs/financial_math/lib/python3.8/lib-dynload', '', '/Users/paulkelendji/miniconda3/envs/financial_math/lib/python3.8/site-packages', '/Users/paulkelendji/miniconda3/envs/financial_math/lib/python3.8/site-packages/setuptools/_vendor', '/Users/paulkelendji/Desktop/GitHub_paul/ML-Asset_Management', '/Users/paulkelendji/Desktop/GitHub_paul/ML-Asset_Management/config', '/Users/paulkelendji/Desktop/GitHub_paul/ML-Asset_Management', '/Users/paulkelendji/Desktop/GitHub_paul/ML-Asset_Management', '/Users/paulkelendji/Desktop/GitHub_paul/ML-Asset_Management', '/Users/paulkelendji/Desktop/GitHub_paul/ML-Asset_Management/config', '/Users/paulkelendji/Desktop/GitHub_paul', '/Users/paulkelendji/Desktop/GitHub_paul/ML-Asset_Management', '/Users/paulkelendji/Desktop/GitHub_paul/ML-Asset_Management/config']\n"
     ]
    }
   ],
   "source": [
    "import os\n",
    "\n",
    "# Run the setup script\n",
    "%run ../../config/setup_project.py\n",
    "\n",
    "# Call the function to set up the project path\n",
    "setup_project_path()\n",
    "\n",
    "# Now you can import your modules\n",
    "from src.utils import helper as h_\n",
    "import src.ch_02.code_ch_02 as f_ch2\n",
    "import src.ch_03.code_ch_03 as f_ch3"
   ]
  },
  {
   "cell_type": "code",
   "execution_count": 16,
   "metadata": {},
   "outputs": [
    {
     "ename": "FileNotFoundError",
     "evalue": "[Errno 2] No such file or directory: '../../data/IVE_kibot.parq'",
     "output_type": "error",
     "traceback": [
      "\u001b[0;31m---------------------------------------------------------------------------\u001b[0m",
      "\u001b[0;31mFileNotFoundError\u001b[0m                         Traceback (most recent call last)",
      "Cell \u001b[0;32mIn[16], line 1\u001b[0m\n\u001b[0;32m----> 1\u001b[0m df \u001b[38;5;241m=\u001b[39m \u001b[43mpd\u001b[49m\u001b[38;5;241;43m.\u001b[39;49m\u001b[43mread_parquet\u001b[49m\u001b[43m(\u001b[49m\u001b[38;5;124;43m\"\u001b[39;49m\u001b[38;5;124;43m../../data/IVE_kibot.parq\u001b[39;49m\u001b[38;5;124;43m\"\u001b[39;49m\u001b[43m)\u001b[49m\n\u001b[1;32m      2\u001b[0m df\n",
      "File \u001b[0;32m~/miniconda3/envs/financial_math/lib/python3.8/site-packages/pandas/io/parquet.py:509\u001b[0m, in \u001b[0;36mread_parquet\u001b[0;34m(path, engine, columns, storage_options, use_nullable_dtypes, dtype_backend, **kwargs)\u001b[0m\n\u001b[1;32m    506\u001b[0m     use_nullable_dtypes \u001b[38;5;241m=\u001b[39m \u001b[38;5;28;01mFalse\u001b[39;00m\n\u001b[1;32m    507\u001b[0m check_dtype_backend(dtype_backend)\n\u001b[0;32m--> 509\u001b[0m \u001b[38;5;28;01mreturn\u001b[39;00m \u001b[43mimpl\u001b[49m\u001b[38;5;241;43m.\u001b[39;49m\u001b[43mread\u001b[49m\u001b[43m(\u001b[49m\n\u001b[1;32m    510\u001b[0m \u001b[43m    \u001b[49m\u001b[43mpath\u001b[49m\u001b[43m,\u001b[49m\n\u001b[1;32m    511\u001b[0m \u001b[43m    \u001b[49m\u001b[43mcolumns\u001b[49m\u001b[38;5;241;43m=\u001b[39;49m\u001b[43mcolumns\u001b[49m\u001b[43m,\u001b[49m\n\u001b[1;32m    512\u001b[0m \u001b[43m    \u001b[49m\u001b[43mstorage_options\u001b[49m\u001b[38;5;241;43m=\u001b[39;49m\u001b[43mstorage_options\u001b[49m\u001b[43m,\u001b[49m\n\u001b[1;32m    513\u001b[0m \u001b[43m    \u001b[49m\u001b[43muse_nullable_dtypes\u001b[49m\u001b[38;5;241;43m=\u001b[39;49m\u001b[43muse_nullable_dtypes\u001b[49m\u001b[43m,\u001b[49m\n\u001b[1;32m    514\u001b[0m \u001b[43m    \u001b[49m\u001b[43mdtype_backend\u001b[49m\u001b[38;5;241;43m=\u001b[39;49m\u001b[43mdtype_backend\u001b[49m\u001b[43m,\u001b[49m\n\u001b[1;32m    515\u001b[0m \u001b[43m    \u001b[49m\u001b[38;5;241;43m*\u001b[39;49m\u001b[38;5;241;43m*\u001b[39;49m\u001b[43mkwargs\u001b[49m\u001b[43m,\u001b[49m\n\u001b[1;32m    516\u001b[0m \u001b[43m\u001b[49m\u001b[43m)\u001b[49m\n",
      "File \u001b[0;32m~/miniconda3/envs/financial_math/lib/python3.8/site-packages/pandas/io/parquet.py:220\u001b[0m, in \u001b[0;36mPyArrowImpl.read\u001b[0;34m(self, path, columns, use_nullable_dtypes, dtype_backend, storage_options, **kwargs)\u001b[0m\n\u001b[1;32m    217\u001b[0m \u001b[38;5;28;01mif\u001b[39;00m manager \u001b[38;5;241m==\u001b[39m \u001b[38;5;124m\"\u001b[39m\u001b[38;5;124marray\u001b[39m\u001b[38;5;124m\"\u001b[39m:\n\u001b[1;32m    218\u001b[0m     to_pandas_kwargs[\u001b[38;5;124m\"\u001b[39m\u001b[38;5;124msplit_blocks\u001b[39m\u001b[38;5;124m\"\u001b[39m] \u001b[38;5;241m=\u001b[39m \u001b[38;5;28;01mTrue\u001b[39;00m  \u001b[38;5;66;03m# type: ignore[assignment]\u001b[39;00m\n\u001b[0;32m--> 220\u001b[0m path_or_handle, handles, kwargs[\u001b[38;5;124m\"\u001b[39m\u001b[38;5;124mfilesystem\u001b[39m\u001b[38;5;124m\"\u001b[39m] \u001b[38;5;241m=\u001b[39m \u001b[43m_get_path_or_handle\u001b[49m\u001b[43m(\u001b[49m\n\u001b[1;32m    221\u001b[0m \u001b[43m    \u001b[49m\u001b[43mpath\u001b[49m\u001b[43m,\u001b[49m\n\u001b[1;32m    222\u001b[0m \u001b[43m    \u001b[49m\u001b[43mkwargs\u001b[49m\u001b[38;5;241;43m.\u001b[39;49m\u001b[43mpop\u001b[49m\u001b[43m(\u001b[49m\u001b[38;5;124;43m\"\u001b[39;49m\u001b[38;5;124;43mfilesystem\u001b[39;49m\u001b[38;5;124;43m\"\u001b[39;49m\u001b[43m,\u001b[49m\u001b[43m \u001b[49m\u001b[38;5;28;43;01mNone\u001b[39;49;00m\u001b[43m)\u001b[49m\u001b[43m,\u001b[49m\n\u001b[1;32m    223\u001b[0m \u001b[43m    \u001b[49m\u001b[43mstorage_options\u001b[49m\u001b[38;5;241;43m=\u001b[39;49m\u001b[43mstorage_options\u001b[49m\u001b[43m,\u001b[49m\n\u001b[1;32m    224\u001b[0m \u001b[43m    \u001b[49m\u001b[43mmode\u001b[49m\u001b[38;5;241;43m=\u001b[39;49m\u001b[38;5;124;43m\"\u001b[39;49m\u001b[38;5;124;43mrb\u001b[39;49m\u001b[38;5;124;43m\"\u001b[39;49m\u001b[43m,\u001b[49m\n\u001b[1;32m    225\u001b[0m \u001b[43m\u001b[49m\u001b[43m)\u001b[49m\n\u001b[1;32m    226\u001b[0m \u001b[38;5;28;01mtry\u001b[39;00m:\n\u001b[1;32m    227\u001b[0m     pa_table \u001b[38;5;241m=\u001b[39m \u001b[38;5;28mself\u001b[39m\u001b[38;5;241m.\u001b[39mapi\u001b[38;5;241m.\u001b[39mparquet\u001b[38;5;241m.\u001b[39mread_table(\n\u001b[1;32m    228\u001b[0m         path_or_handle, columns\u001b[38;5;241m=\u001b[39mcolumns, \u001b[38;5;241m*\u001b[39m\u001b[38;5;241m*\u001b[39mkwargs\n\u001b[1;32m    229\u001b[0m     )\n",
      "File \u001b[0;32m~/miniconda3/envs/financial_math/lib/python3.8/site-packages/pandas/io/parquet.py:110\u001b[0m, in \u001b[0;36m_get_path_or_handle\u001b[0;34m(path, fs, storage_options, mode, is_dir)\u001b[0m\n\u001b[1;32m    100\u001b[0m handles \u001b[38;5;241m=\u001b[39m \u001b[38;5;28;01mNone\u001b[39;00m\n\u001b[1;32m    101\u001b[0m \u001b[38;5;28;01mif\u001b[39;00m (\n\u001b[1;32m    102\u001b[0m     \u001b[38;5;129;01mnot\u001b[39;00m fs\n\u001b[1;32m    103\u001b[0m     \u001b[38;5;129;01mand\u001b[39;00m \u001b[38;5;129;01mnot\u001b[39;00m is_dir\n\u001b[0;32m   (...)\u001b[0m\n\u001b[1;32m    108\u001b[0m     \u001b[38;5;66;03m# fsspec resources can also point to directories\u001b[39;00m\n\u001b[1;32m    109\u001b[0m     \u001b[38;5;66;03m# this branch is used for example when reading from non-fsspec URLs\u001b[39;00m\n\u001b[0;32m--> 110\u001b[0m     handles \u001b[38;5;241m=\u001b[39m \u001b[43mget_handle\u001b[49m\u001b[43m(\u001b[49m\n\u001b[1;32m    111\u001b[0m \u001b[43m        \u001b[49m\u001b[43mpath_or_handle\u001b[49m\u001b[43m,\u001b[49m\u001b[43m \u001b[49m\u001b[43mmode\u001b[49m\u001b[43m,\u001b[49m\u001b[43m \u001b[49m\u001b[43mis_text\u001b[49m\u001b[38;5;241;43m=\u001b[39;49m\u001b[38;5;28;43;01mFalse\u001b[39;49;00m\u001b[43m,\u001b[49m\u001b[43m \u001b[49m\u001b[43mstorage_options\u001b[49m\u001b[38;5;241;43m=\u001b[39;49m\u001b[43mstorage_options\u001b[49m\n\u001b[1;32m    112\u001b[0m \u001b[43m    \u001b[49m\u001b[43m)\u001b[49m\n\u001b[1;32m    113\u001b[0m     fs \u001b[38;5;241m=\u001b[39m \u001b[38;5;28;01mNone\u001b[39;00m\n\u001b[1;32m    114\u001b[0m     path_or_handle \u001b[38;5;241m=\u001b[39m handles\u001b[38;5;241m.\u001b[39mhandle\n",
      "File \u001b[0;32m~/miniconda3/envs/financial_math/lib/python3.8/site-packages/pandas/io/common.py:868\u001b[0m, in \u001b[0;36mget_handle\u001b[0;34m(path_or_buf, mode, encoding, compression, memory_map, is_text, errors, storage_options)\u001b[0m\n\u001b[1;32m    859\u001b[0m         handle \u001b[38;5;241m=\u001b[39m \u001b[38;5;28mopen\u001b[39m(\n\u001b[1;32m    860\u001b[0m             handle,\n\u001b[1;32m    861\u001b[0m             ioargs\u001b[38;5;241m.\u001b[39mmode,\n\u001b[0;32m   (...)\u001b[0m\n\u001b[1;32m    864\u001b[0m             newline\u001b[38;5;241m=\u001b[39m\u001b[38;5;124m\"\u001b[39m\u001b[38;5;124m\"\u001b[39m,\n\u001b[1;32m    865\u001b[0m         )\n\u001b[1;32m    866\u001b[0m     \u001b[38;5;28;01melse\u001b[39;00m:\n\u001b[1;32m    867\u001b[0m         \u001b[38;5;66;03m# Binary mode\u001b[39;00m\n\u001b[0;32m--> 868\u001b[0m         handle \u001b[38;5;241m=\u001b[39m \u001b[38;5;28;43mopen\u001b[39;49m\u001b[43m(\u001b[49m\u001b[43mhandle\u001b[49m\u001b[43m,\u001b[49m\u001b[43m \u001b[49m\u001b[43mioargs\u001b[49m\u001b[38;5;241;43m.\u001b[39;49m\u001b[43mmode\u001b[49m\u001b[43m)\u001b[49m\n\u001b[1;32m    869\u001b[0m     handles\u001b[38;5;241m.\u001b[39mappend(handle)\n\u001b[1;32m    871\u001b[0m \u001b[38;5;66;03m# Convert BytesIO or file objects passed with an encoding\u001b[39;00m\n",
      "\u001b[0;31mFileNotFoundError\u001b[0m: [Errno 2] No such file or directory: '../../data/IVE_kibot.parq'"
     ]
    }
   ],
   "source": [
    "df = pd.read_parquet(\"../../data/IVE_kibot.parq\")\n",
    "df"
   ]
  },
  {
   "cell_type": "markdown",
   "metadata": {},
   "source": [
    "### **SNIPPET 4.1** **ESTIMATING THE UNIQUENESS OF A LABEL**\n"
   ]
  },
  {
   "cell_type": "code",
   "execution_count": 17,
   "metadata": {},
   "outputs": [],
   "source": [
    "# def mpNumCoEvents(closeIdx, t1, molecule):\n",
    "#     '''\n",
    "#     Compute the number of concurrent events per bar.\n",
    "#     +molecule[0] is the date of the first event on which the weight will be computed\n",
    "#     +molecule[-1] is the date of the last event on which the weight will be computed\n",
    "#     Any event that starts before t1[molecule].max() impacts the count.\n",
    "#     '''\n",
    "#     #1) find events that span the period [molecule[0], molecule[-1]]\n",
    "#     t1 = t1.fillna(closeIdx[-1])  # unclosed events still must impact other weights\n",
    "#     t1 = t1[t1 >= molecule[0]]  # events that end at or after molecule[0]\n",
    "#     t1 = t1.loc[:t1[molecule].max()]  # events that start at or before t1[molecule].max()\n",
    "    \n",
    "#     #2) count events spanning a bar\n",
    "#     iloc = closeIdx.searchsorted(np.array([t1.index[0], t1.max()]))\n",
    "#     count = pd.Series(0, index=closeIdx[iloc[0]:iloc[1] + 1])\n",
    "#     for tIn, tOut in t1.iteritems():\n",
    "#         count.loc[tIn:tOut] += 1\n",
    "#     return count.loc[molecule[0]:t1[molecule].max()]\n"
   ]
  },
  {
   "cell_type": "code",
   "execution_count": null,
   "metadata": {},
   "outputs": [],
   "source": []
  },
  {
   "cell_type": "markdown",
   "metadata": {},
   "source": [
    "The equation \\( I^{-1} \\sum_{i=1}^{I} \\tilde{u}_i \\ll 1 \\) refers to the average uniqueness of the labels in the context of bagging classifiers, particularly when using the bootstrap method in machine learning. \n",
    "\n",
    "Here's what this equation represents:\n",
    "\n",
    "- **\\( \\tilde{u}_i \\)**: This term represents the average uniqueness of label \\( i \\). Uniqueness, in this context, refers to how distinct or non-overlapping a particular label is over its lifespan in the dataset.\n",
    "\n",
    "- **\\( I \\)**: This is the total number of labels.\n",
    "\n",
    "- **\\( I^{-1} \\sum_{i=1}^{I} \\tilde{u}_i \\)**: This is the average of the uniqueness values across all labels. It tells us how unique, on average, the labels are in the dataset.\n",
    "\n",
    "- **\\( \\ll 1 \\)**: This symbol indicates that the average uniqueness is much less than 1. In other words, it suggests that the labels are highly overlapping or redundant.\n",
    "\n",
    "### Interpretation in Context:\n",
    "\n",
    "The text is discussing the issue of redundancy when sampling with replacement (as in the bootstrap method) in the presence of highly overlapping labels (low uniqueness). If the average uniqueness \\( I^{-1} \\sum_{i=1}^{I} \\tilde{u}_i \\) is very small (i.e., much less than 1), this implies that most of the labels are overlapping significantly. \n",
    "\n",
    "This has a couple of implications:\n",
    "\n",
    "1. **Redundant Samples**: If uniqueness is low, it means that different bootstrap samples are likely to contain very similar or even identical information. This reduces the effectiveness of bagging, as the different models trained on these bootstrap samples will not be as diverse as they should be.\n",
    "\n",
    "2. **Inefficient Bootstrapping**: The bootstrapping process becomes inefficient because it doesn't capture enough variability in the data. This can lead to overfitting, as the models trained on these bootstrap samples become too similar to each other, essentially learning the same patterns and making the same errors.\n",
    "\n",
    "The equation thus highlights the importance of ensuring that the labels or observations used in the bootstrap samples are sufficiently unique or non-overlapping to make the bagging process effective. If the average uniqueness is too low, the benefits of bagging (like reduced variance and improved generalization) may not be fully realized."
   ]
  },
  {
   "cell_type": "markdown",
   "metadata": {},
   "source": []
  },
  {
   "cell_type": "markdown",
   "metadata": {},
   "source": []
  },
  {
   "cell_type": "markdown",
   "metadata": {},
   "source": [
    "# Framework"
   ]
  },
  {
   "cell_type": "code",
   "execution_count": 18,
   "metadata": {},
   "outputs": [
    {
     "data": {
      "text/html": [
       "<div>\n",
       "<style scoped>\n",
       "    .dataframe tbody tr th:only-of-type {\n",
       "        vertical-align: middle;\n",
       "    }\n",
       "\n",
       "    .dataframe tbody tr th {\n",
       "        vertical-align: top;\n",
       "    }\n",
       "\n",
       "    .dataframe thead th {\n",
       "        text-align: right;\n",
       "    }\n",
       "</style>\n",
       "<table border=\"1\" class=\"dataframe\">\n",
       "  <thead>\n",
       "    <tr style=\"text-align: right;\">\n",
       "      <th></th>\n",
       "      <th>time_open</th>\n",
       "      <th>open</th>\n",
       "      <th>low</th>\n",
       "      <th>high</th>\n",
       "      <th>close</th>\n",
       "      <th>vwap</th>\n",
       "      <th>volume</th>\n",
       "    </tr>\n",
       "    <tr>\n",
       "      <th>time_close</th>\n",
       "      <th></th>\n",
       "      <th></th>\n",
       "      <th></th>\n",
       "      <th></th>\n",
       "      <th></th>\n",
       "      <th></th>\n",
       "      <th></th>\n",
       "    </tr>\n",
       "  </thead>\n",
       "  <tbody>\n",
       "    <tr>\n",
       "      <th>2009-09-29 13:23:42</th>\n",
       "      <td>2009-09-28 09:30:00</td>\n",
       "      <td>50.7900</td>\n",
       "      <td>50.710</td>\n",
       "      <td>51.9600</td>\n",
       "      <td>51.730</td>\n",
       "      <td>51.430024</td>\n",
       "      <td>701459</td>\n",
       "    </tr>\n",
       "    <tr>\n",
       "      <th>2009-10-01 13:44:06</th>\n",
       "      <td>2009-09-29 13:26:31</td>\n",
       "      <td>51.7275</td>\n",
       "      <td>50.070</td>\n",
       "      <td>51.7600</td>\n",
       "      <td>50.270</td>\n",
       "      <td>50.908633</td>\n",
       "      <td>709392</td>\n",
       "    </tr>\n",
       "    <tr>\n",
       "      <th>2009-10-02 14:37:25</th>\n",
       "      <td>2009-10-01 13:45:10</td>\n",
       "      <td>50.2376</td>\n",
       "      <td>49.190</td>\n",
       "      <td>50.3166</td>\n",
       "      <td>49.761</td>\n",
       "      <td>49.836850</td>\n",
       "      <td>724111</td>\n",
       "    </tr>\n",
       "    <tr>\n",
       "      <th>2009-10-07 11:39:00</th>\n",
       "      <td>2009-10-02 14:38:03</td>\n",
       "      <td>49.7635</td>\n",
       "      <td>49.440</td>\n",
       "      <td>51.4700</td>\n",
       "      <td>51.090</td>\n",
       "      <td>50.606475</td>\n",
       "      <td>713127</td>\n",
       "    </tr>\n",
       "    <tr>\n",
       "      <th>2009-10-12 14:24:38</th>\n",
       "      <td>2009-10-07 11:40:15</td>\n",
       "      <td>51.0880</td>\n",
       "      <td>50.980</td>\n",
       "      <td>52.2252</td>\n",
       "      <td>51.990</td>\n",
       "      <td>51.675670</td>\n",
       "      <td>698754</td>\n",
       "    </tr>\n",
       "    <tr>\n",
       "      <th>...</th>\n",
       "      <td>...</td>\n",
       "      <td>...</td>\n",
       "      <td>...</td>\n",
       "      <td>...</td>\n",
       "      <td>...</td>\n",
       "      <td>...</td>\n",
       "      <td>...</td>\n",
       "    </tr>\n",
       "    <tr>\n",
       "      <th>2024-07-25 11:50:36</th>\n",
       "      <td>2024-07-24 15:51:05</td>\n",
       "      <td>186.6706</td>\n",
       "      <td>186.460</td>\n",
       "      <td>188.5800</td>\n",
       "      <td>188.400</td>\n",
       "      <td>187.387274</td>\n",
       "      <td>186271</td>\n",
       "    </tr>\n",
       "    <tr>\n",
       "      <th>2024-07-25 14:46:14</th>\n",
       "      <td>2024-07-25 11:50:40</td>\n",
       "      <td>188.4000</td>\n",
       "      <td>187.685</td>\n",
       "      <td>189.1286</td>\n",
       "      <td>187.685</td>\n",
       "      <td>188.380972</td>\n",
       "      <td>194394</td>\n",
       "    </tr>\n",
       "    <tr>\n",
       "      <th>2024-07-26 10:11:15</th>\n",
       "      <td>2024-07-25 14:46:35</td>\n",
       "      <td>187.6150</td>\n",
       "      <td>186.980</td>\n",
       "      <td>189.2300</td>\n",
       "      <td>189.020</td>\n",
       "      <td>187.749127</td>\n",
       "      <td>195797</td>\n",
       "    </tr>\n",
       "    <tr>\n",
       "      <th>2024-07-26 15:59:52</th>\n",
       "      <td>2024-07-26 10:12:45</td>\n",
       "      <td>189.0497</td>\n",
       "      <td>188.665</td>\n",
       "      <td>190.0100</td>\n",
       "      <td>189.460</td>\n",
       "      <td>189.348801</td>\n",
       "      <td>183912</td>\n",
       "    </tr>\n",
       "    <tr>\n",
       "      <th>2024-07-26 16:00:00</th>\n",
       "      <td>2024-07-26 16:00:00</td>\n",
       "      <td>189.3900</td>\n",
       "      <td>189.390</td>\n",
       "      <td>189.3900</td>\n",
       "      <td>189.390</td>\n",
       "      <td>189.390000</td>\n",
       "      <td>7734</td>\n",
       "    </tr>\n",
       "  </tbody>\n",
       "</table>\n",
       "<p>4231 rows × 7 columns</p>\n",
       "</div>"
      ],
      "text/plain": [
       "                              time_open      open      low      high    close  \\\n",
       "time_close                                                                      \n",
       "2009-09-29 13:23:42 2009-09-28 09:30:00   50.7900   50.710   51.9600   51.730   \n",
       "2009-10-01 13:44:06 2009-09-29 13:26:31   51.7275   50.070   51.7600   50.270   \n",
       "2009-10-02 14:37:25 2009-10-01 13:45:10   50.2376   49.190   50.3166   49.761   \n",
       "2009-10-07 11:39:00 2009-10-02 14:38:03   49.7635   49.440   51.4700   51.090   \n",
       "2009-10-12 14:24:38 2009-10-07 11:40:15   51.0880   50.980   52.2252   51.990   \n",
       "...                                 ...       ...      ...       ...      ...   \n",
       "2024-07-25 11:50:36 2024-07-24 15:51:05  186.6706  186.460  188.5800  188.400   \n",
       "2024-07-25 14:46:14 2024-07-25 11:50:40  188.4000  187.685  189.1286  187.685   \n",
       "2024-07-26 10:11:15 2024-07-25 14:46:35  187.6150  186.980  189.2300  189.020   \n",
       "2024-07-26 15:59:52 2024-07-26 10:12:45  189.0497  188.665  190.0100  189.460   \n",
       "2024-07-26 16:00:00 2024-07-26 16:00:00  189.3900  189.390  189.3900  189.390   \n",
       "\n",
       "                           vwap  volume  \n",
       "time_close                               \n",
       "2009-09-29 13:23:42   51.430024  701459  \n",
       "2009-10-01 13:44:06   50.908633  709392  \n",
       "2009-10-02 14:37:25   49.836850  724111  \n",
       "2009-10-07 11:39:00   50.606475  713127  \n",
       "2009-10-12 14:24:38   51.675670  698754  \n",
       "...                         ...     ...  \n",
       "2024-07-25 11:50:36  187.387274  186271  \n",
       "2024-07-25 14:46:14  188.380972  194394  \n",
       "2024-07-26 10:11:15  187.749127  195797  \n",
       "2024-07-26 15:59:52  189.348801  183912  \n",
       "2024-07-26 16:00:00  189.390000    7734  \n",
       "\n",
       "[4231 rows x 7 columns]"
      ]
     },
     "execution_count": 18,
     "metadata": {},
     "output_type": "execute_result"
    }
   ],
   "source": [
    "# load ../data/variables_ch2.pkl\n",
    "%run ../ch_02/code_ch_02.py\n",
    "\n",
    "path = '../../data/variables_ch2.pkl'\n",
    "import pickle\n",
    "with open(path, 'rb') as f:\n",
    "    bars = pickle.load(f)\n",
    "    bar_time = pickle.load(f)\n",
    "    \n",
    "# df as bars['Dollar'].df_OLHC without 'cusum' column\n",
    "df = bars['Dollar'].df_OLHC.drop(columns=['cusum'])\n",
    "# For the purpose of this example, remove rows where time_close is duplicated\n",
    "# (keep the first row)\n",
    "# Remove rows where time_close is duplicated, keeping the first occurrence\n",
    "df = df.drop_duplicates(subset='time_close', keep='first')\n",
    "# set index as 'time_close'\n",
    "df = df.set_index('time_close')\n",
    "df"
   ]
  },
  {
   "cell_type": "code",
   "execution_count": 19,
   "metadata": {},
   "outputs": [],
   "source": [
    "# Step 1 : get the daily volatility\n",
    "close = df['close']\n",
    "dailyVol = f_ch3.getDailyVol(close, span0=100).dropna()\n",
    "\n",
    "# Step 2 : Detect events (significant points in time where price changes)\n",
    "yt = close.pct_change().dropna()\n",
    "tEvents = f_ch3.getTEvents(yt, h=dailyVol)\n",
    "\n",
    "# Step 3 : Obtain t1 series\n",
    "NUM_DAYS = 10\n",
    "t1 = f_ch3.addVerticalBarrier(tEvents, close, numDays=NUM_DAYS)\n",
    "\n",
    "# Step 4 : Filter events where target is higher than threshold\n",
    "# Create target series\n",
    "ptsl = [1,1]\n",
    "target=dailyVol\n",
    "# Select minRet\n",
    "minRet = 0.01\n",
    "events = f_ch3.getEvents(close,tEvents,ptsl,target,minRet,numThreads = 1 ,t1=t1)"
   ]
  },
  {
   "cell_type": "code",
   "execution_count": 20,
   "metadata": {},
   "outputs": [
    {
     "data": {
      "text/html": [
       "<div>\n",
       "<style scoped>\n",
       "    .dataframe tbody tr th:only-of-type {\n",
       "        vertical-align: middle;\n",
       "    }\n",
       "\n",
       "    .dataframe tbody tr th {\n",
       "        vertical-align: top;\n",
       "    }\n",
       "\n",
       "    .dataframe thead th {\n",
       "        text-align: right;\n",
       "    }\n",
       "</style>\n",
       "<table border=\"1\" class=\"dataframe\">\n",
       "  <thead>\n",
       "    <tr style=\"text-align: right;\">\n",
       "      <th></th>\n",
       "      <th>t1</th>\n",
       "      <th>trgt</th>\n",
       "    </tr>\n",
       "  </thead>\n",
       "  <tbody>\n",
       "    <tr>\n",
       "      <th>2009-10-02 14:37:25</th>\n",
       "      <td>2009-10-07 11:39:00</td>\n",
       "      <td>0.012797</td>\n",
       "    </tr>\n",
       "    <tr>\n",
       "      <th>2009-10-07 11:39:00</th>\n",
       "      <td>2009-10-15 12:03:22</td>\n",
       "      <td>0.028053</td>\n",
       "    </tr>\n",
       "    <tr>\n",
       "      <th>2009-10-20 11:12:37</th>\n",
       "      <td>2009-10-27 11:06:15</td>\n",
       "      <td>0.020279</td>\n",
       "    </tr>\n",
       "    <tr>\n",
       "      <th>2009-10-27 11:06:15</th>\n",
       "      <td>2009-11-03 11:21:01</td>\n",
       "      <td>0.020823</td>\n",
       "    </tr>\n",
       "    <tr>\n",
       "      <th>2009-11-02 10:30:21</th>\n",
       "      <td>2009-11-10 10:55:00</td>\n",
       "      <td>0.018378</td>\n",
       "    </tr>\n",
       "    <tr>\n",
       "      <th>...</th>\n",
       "      <td>...</td>\n",
       "      <td>...</td>\n",
       "    </tr>\n",
       "    <tr>\n",
       "      <th>2023-11-02 13:19:47</th>\n",
       "      <td>2023-11-03 12:07:30</td>\n",
       "      <td>0.010664</td>\n",
       "    </tr>\n",
       "    <tr>\n",
       "      <th>2023-11-03 12:07:30</th>\n",
       "      <td>2023-11-14 10:00:23</td>\n",
       "      <td>0.011264</td>\n",
       "    </tr>\n",
       "    <tr>\n",
       "      <th>2023-11-03 15:23:46</th>\n",
       "      <td>2023-11-14 10:00:23</td>\n",
       "      <td>0.011404</td>\n",
       "    </tr>\n",
       "    <tr>\n",
       "      <th>2023-11-14 10:00:23</th>\n",
       "      <td>2023-11-20 13:08:22</td>\n",
       "      <td>0.011173</td>\n",
       "    </tr>\n",
       "    <tr>\n",
       "      <th>2023-11-14 15:59:59</th>\n",
       "      <td>2023-11-20 13:08:22</td>\n",
       "      <td>0.011389</td>\n",
       "    </tr>\n",
       "  </tbody>\n",
       "</table>\n",
       "<p>967 rows × 2 columns</p>\n",
       "</div>"
      ],
      "text/plain": [
       "                                     t1      trgt\n",
       "2009-10-02 14:37:25 2009-10-07 11:39:00  0.012797\n",
       "2009-10-07 11:39:00 2009-10-15 12:03:22  0.028053\n",
       "2009-10-20 11:12:37 2009-10-27 11:06:15  0.020279\n",
       "2009-10-27 11:06:15 2009-11-03 11:21:01  0.020823\n",
       "2009-11-02 10:30:21 2009-11-10 10:55:00  0.018378\n",
       "...                                 ...       ...\n",
       "2023-11-02 13:19:47 2023-11-03 12:07:30  0.010664\n",
       "2023-11-03 12:07:30 2023-11-14 10:00:23  0.011264\n",
       "2023-11-03 15:23:46 2023-11-14 10:00:23  0.011404\n",
       "2023-11-14 10:00:23 2023-11-20 13:08:22  0.011173\n",
       "2023-11-14 15:59:59 2023-11-20 13:08:22  0.011389\n",
       "\n",
       "[967 rows x 2 columns]"
      ]
     },
     "execution_count": 20,
     "metadata": {},
     "output_type": "execute_result"
    }
   ],
   "source": [
    "events"
   ]
  },
  {
   "cell_type": "code",
   "execution_count": 21,
   "metadata": {},
   "outputs": [
    {
     "data": {
      "text/plain": [
       "2009-10-02 14:37:25   2009-10-15 12:03:22\n",
       "2009-10-07 11:39:00   2009-10-20 11:12:37\n",
       "2009-10-20 11:12:37   2009-11-02 10:30:21\n",
       "2009-10-27 11:06:15   2009-11-10 10:55:00\n",
       "2009-11-02 10:30:21   2009-11-13 12:12:50\n",
       "                              ...        \n",
       "2024-07-02 14:11:15   2024-07-12 16:00:00\n",
       "2024-07-10 13:21:10   2024-07-22 14:12:45\n",
       "2024-07-11 12:01:59   2024-07-22 14:12:45\n",
       "2024-07-12 16:00:00   2024-07-23 10:51:52\n",
       "2024-07-16 10:07:09   2024-07-26 10:11:15\n",
       "Name: time_close, Length: 1513, dtype: datetime64[ns]"
      ]
     },
     "execution_count": 21,
     "metadata": {},
     "output_type": "execute_result"
    }
   ],
   "source": [
    "t1"
   ]
  },
  {
   "cell_type": "code",
   "execution_count": 22,
   "metadata": {},
   "outputs": [
    {
     "data": {
      "text/plain": [
       "time_close\n",
       "2009-09-29 13:23:42     51.730\n",
       "2009-10-01 13:44:06     50.270\n",
       "2009-10-02 14:37:25     49.761\n",
       "2009-10-07 11:39:00     51.090\n",
       "2009-10-12 14:24:38     51.990\n",
       "                        ...   \n",
       "2024-07-25 11:50:36    188.400\n",
       "2024-07-25 14:46:14    187.685\n",
       "2024-07-26 10:11:15    189.020\n",
       "2024-07-26 15:59:52    189.460\n",
       "2024-07-26 16:00:00    189.390\n",
       "Name: close, Length: 4231, dtype: float64"
      ]
     },
     "execution_count": 22,
     "metadata": {},
     "output_type": "execute_result"
    }
   ],
   "source": [
    "close"
   ]
  },
  {
   "cell_type": "code",
   "execution_count": 23,
   "metadata": {},
   "outputs": [],
   "source": [
    "# **SNIPPET 4.1** **ESTIMATING THE UNIQUENESS OF A LABEL**\n",
    "\n",
    "def mpNumCoEvents(closeIdx, t1, molecule):\n",
    "    '''\n",
    "    Compute the number of concurrent events per bar.\n",
    "    +molecule[0] is the date of the first event on which the weight will be computed\n",
    "    +molecule[-1] is the date of the last event on which the weight will be computed\n",
    "    Any event that starts before t1[molecule].max() impacts the count.\n",
    "    '''\n",
    "    #1) find events that span the period [molecule[0], molecule[-1]]\n",
    "    t1 = t1.fillna(closeIdx[-1])  # unclosed events still must impact other weights\n",
    "    t1 = t1[t1 >= molecule[0]]  # events that end at or after molecule[0]\n",
    "    t1 = t1.loc[:t1[molecule].max()]  # events that start at or before t1[molecule].max()\n",
    "    \n",
    "    #2) count events spanning a bar\n",
    "    iloc = closeIdx.searchsorted(np.array([t1.index[0], t1.max()]))\n",
    "    count = pd.Series(0, index=closeIdx[iloc[0]:iloc[1] + 1])\n",
    "    for tIn, tOut in t1.items():  # Changed from iteritems() to items()\n",
    "        count.loc[tIn:tOut] += 1\n",
    "    return count.loc[molecule[0]:t1[molecule].max()]"
   ]
  },
  {
   "cell_type": "code",
   "execution_count": 24,
   "metadata": {},
   "outputs": [],
   "source": [
    "# # Step 1: Compute the number of concurrent events\n",
    "# numCoEvents = mpNumCoEvents(close.index, events.t1, events.index)"
   ]
  },
  {
   "cell_type": "code",
   "execution_count": 25,
   "metadata": {},
   "outputs": [
    {
     "data": {
      "text/html": [
       "<div>\n",
       "<style scoped>\n",
       "    .dataframe tbody tr th:only-of-type {\n",
       "        vertical-align: middle;\n",
       "    }\n",
       "\n",
       "    .dataframe tbody tr th {\n",
       "        vertical-align: top;\n",
       "    }\n",
       "\n",
       "    .dataframe thead th {\n",
       "        text-align: right;\n",
       "    }\n",
       "</style>\n",
       "<table border=\"1\" class=\"dataframe\">\n",
       "  <thead>\n",
       "    <tr style=\"text-align: right;\">\n",
       "      <th></th>\n",
       "      <th>ret</th>\n",
       "      <th>bin</th>\n",
       "    </tr>\n",
       "  </thead>\n",
       "  <tbody>\n",
       "    <tr>\n",
       "      <th>2009-10-02 14:37:25</th>\n",
       "      <td>0.026708</td>\n",
       "      <td>1.0</td>\n",
       "    </tr>\n",
       "    <tr>\n",
       "      <th>2009-10-07 11:39:00</th>\n",
       "      <td>0.033647</td>\n",
       "      <td>1.0</td>\n",
       "    </tr>\n",
       "    <tr>\n",
       "      <th>2009-10-20 11:12:37</th>\n",
       "      <td>-0.034529</td>\n",
       "      <td>-1.0</td>\n",
       "    </tr>\n",
       "    <tr>\n",
       "      <th>2009-10-27 11:06:15</th>\n",
       "      <td>-0.028689</td>\n",
       "      <td>-1.0</td>\n",
       "    </tr>\n",
       "    <tr>\n",
       "      <th>2009-11-02 10:30:21</th>\n",
       "      <td>0.038788</td>\n",
       "      <td>1.0</td>\n",
       "    </tr>\n",
       "    <tr>\n",
       "      <th>...</th>\n",
       "      <td>...</td>\n",
       "      <td>...</td>\n",
       "    </tr>\n",
       "    <tr>\n",
       "      <th>2023-11-02 13:19:47</th>\n",
       "      <td>0.016538</td>\n",
       "      <td>1.0</td>\n",
       "    </tr>\n",
       "    <tr>\n",
       "      <th>2023-11-03 12:07:30</th>\n",
       "      <td>0.023062</td>\n",
       "      <td>1.0</td>\n",
       "    </tr>\n",
       "    <tr>\n",
       "      <th>2023-11-03 15:23:46</th>\n",
       "      <td>0.021314</td>\n",
       "      <td>1.0</td>\n",
       "    </tr>\n",
       "    <tr>\n",
       "      <th>2023-11-14 10:00:23</th>\n",
       "      <td>0.015028</td>\n",
       "      <td>1.0</td>\n",
       "    </tr>\n",
       "    <tr>\n",
       "      <th>2023-11-14 15:59:59</th>\n",
       "      <td>0.012450</td>\n",
       "      <td>1.0</td>\n",
       "    </tr>\n",
       "  </tbody>\n",
       "</table>\n",
       "<p>967 rows × 2 columns</p>\n",
       "</div>"
      ],
      "text/plain": [
       "                          ret  bin\n",
       "2009-10-02 14:37:25  0.026708  1.0\n",
       "2009-10-07 11:39:00  0.033647  1.0\n",
       "2009-10-20 11:12:37 -0.034529 -1.0\n",
       "2009-10-27 11:06:15 -0.028689 -1.0\n",
       "2009-11-02 10:30:21  0.038788  1.0\n",
       "...                       ...  ...\n",
       "2023-11-02 13:19:47  0.016538  1.0\n",
       "2023-11-03 12:07:30  0.023062  1.0\n",
       "2023-11-03 15:23:46  0.021314  1.0\n",
       "2023-11-14 10:00:23  0.015028  1.0\n",
       "2023-11-14 15:59:59  0.012450  1.0\n",
       "\n",
       "[967 rows x 2 columns]"
      ]
     },
     "execution_count": 25,
     "metadata": {},
     "output_type": "execute_result"
    }
   ],
   "source": [
    "out = f_ch3.getBins(events, close)\n",
    "out"
   ]
  },
  {
   "cell_type": "code",
   "execution_count": 26,
   "metadata": {},
   "outputs": [],
   "source": [
    "# **SNIPPET 4.2** **ESTIMATING THE AVERAGE UNIQUENESS OF A LABEL**\n",
    "\n",
    "def mpSampleTW(t1, numCoEvents, molecule):\n",
    "    # Derive average uniqueness over the event's lifespan\n",
    "    wght = pd.Series(index=molecule)\n",
    "    for tIn, tOut in t1.loc[wght.index].items():  # Changed from .iteritems() to .items()\n",
    "        wght.loc[tIn] = (1. / numCoEvents.loc[tIn:tOut]).mean()\n",
    "    return wght"
   ]
  },
  {
   "cell_type": "code",
   "execution_count": 27,
   "metadata": {},
   "outputs": [
    {
     "name": "stdout",
     "output_type": "stream",
     "text": [
      "The average uniqueness of a label is: 0.5106862013855774\n"
     ]
    }
   ],
   "source": [
    "numCoEvents = f_ch3.mpPandasObj(\n",
    "    mpNumCoEvents,\n",
    "    (\"molecule\", events.index),\n",
    "    numThreads=1,\n",
    "    closeIdx=close.index,\n",
    "    t1=events[\"t1\"],\n",
    ")\n",
    "\n",
    "numCoEvents = numCoEvents.loc[~numCoEvents.index.duplicated(keep=\"last\")]\n",
    "numCoEvents=numCoEvents.reindex(close.index).ﬁllna(0)\n",
    "\n",
    "out[\"tW\"] = f_ch3.mpPandasObj(\n",
    "    mpSampleTW,\n",
    "    (\"molecule\", events.index),\n",
    "    numThreads=1,\n",
    "    t1=events[\"t1\"],\n",
    "    numCoEvents=numCoEvents,\n",
    ")\n",
    "\n",
    "# average uniqueness of a label\n",
    "print(f\"The average uniqueness of a label is: {out['tW'].mean()}\")"
   ]
  },
  {
   "cell_type": "code",
   "execution_count": 28,
   "metadata": {},
   "outputs": [
    {
     "data": {
      "text/html": [
       "<div>\n",
       "<style scoped>\n",
       "    .dataframe tbody tr th:only-of-type {\n",
       "        vertical-align: middle;\n",
       "    }\n",
       "\n",
       "    .dataframe tbody tr th {\n",
       "        vertical-align: top;\n",
       "    }\n",
       "\n",
       "    .dataframe thead th {\n",
       "        text-align: right;\n",
       "    }\n",
       "</style>\n",
       "<table border=\"1\" class=\"dataframe\">\n",
       "  <thead>\n",
       "    <tr style=\"text-align: right;\">\n",
       "      <th></th>\n",
       "      <th>ret</th>\n",
       "      <th>bin</th>\n",
       "      <th>tW</th>\n",
       "    </tr>\n",
       "  </thead>\n",
       "  <tbody>\n",
       "    <tr>\n",
       "      <th>2009-10-02 14:37:25</th>\n",
       "      <td>0.026708</td>\n",
       "      <td>1.0</td>\n",
       "      <td>0.750000</td>\n",
       "    </tr>\n",
       "    <tr>\n",
       "      <th>2009-10-07 11:39:00</th>\n",
       "      <td>0.033647</td>\n",
       "      <td>1.0</td>\n",
       "      <td>0.833333</td>\n",
       "    </tr>\n",
       "    <tr>\n",
       "      <th>2009-10-20 11:12:37</th>\n",
       "      <td>-0.034529</td>\n",
       "      <td>-1.0</td>\n",
       "      <td>0.833333</td>\n",
       "    </tr>\n",
       "    <tr>\n",
       "      <th>2009-10-27 11:06:15</th>\n",
       "      <td>-0.028689</td>\n",
       "      <td>-1.0</td>\n",
       "      <td>0.625000</td>\n",
       "    </tr>\n",
       "    <tr>\n",
       "      <th>2009-11-02 10:30:21</th>\n",
       "      <td>0.038788</td>\n",
       "      <td>1.0</td>\n",
       "      <td>0.500000</td>\n",
       "    </tr>\n",
       "    <tr>\n",
       "      <th>...</th>\n",
       "      <td>...</td>\n",
       "      <td>...</td>\n",
       "      <td>...</td>\n",
       "    </tr>\n",
       "    <tr>\n",
       "      <th>2023-11-02 13:19:47</th>\n",
       "      <td>0.016538</td>\n",
       "      <td>1.0</td>\n",
       "      <td>0.444444</td>\n",
       "    </tr>\n",
       "    <tr>\n",
       "      <th>2023-11-03 12:07:30</th>\n",
       "      <td>0.023062</td>\n",
       "      <td>1.0</td>\n",
       "      <td>0.452381</td>\n",
       "    </tr>\n",
       "    <tr>\n",
       "      <th>2023-11-03 15:23:46</th>\n",
       "      <td>0.021314</td>\n",
       "      <td>1.0</td>\n",
       "      <td>0.472222</td>\n",
       "    </tr>\n",
       "    <tr>\n",
       "      <th>2023-11-14 10:00:23</th>\n",
       "      <td>0.015028</td>\n",
       "      <td>1.0</td>\n",
       "      <td>0.476190</td>\n",
       "    </tr>\n",
       "    <tr>\n",
       "      <th>2023-11-14 15:59:59</th>\n",
       "      <td>0.012450</td>\n",
       "      <td>1.0</td>\n",
       "      <td>0.500000</td>\n",
       "    </tr>\n",
       "  </tbody>\n",
       "</table>\n",
       "<p>967 rows × 3 columns</p>\n",
       "</div>"
      ],
      "text/plain": [
       "                          ret  bin        tW\n",
       "2009-10-02 14:37:25  0.026708  1.0  0.750000\n",
       "2009-10-07 11:39:00  0.033647  1.0  0.833333\n",
       "2009-10-20 11:12:37 -0.034529 -1.0  0.833333\n",
       "2009-10-27 11:06:15 -0.028689 -1.0  0.625000\n",
       "2009-11-02 10:30:21  0.038788  1.0  0.500000\n",
       "...                       ...  ...       ...\n",
       "2023-11-02 13:19:47  0.016538  1.0  0.444444\n",
       "2023-11-03 12:07:30  0.023062  1.0  0.452381\n",
       "2023-11-03 15:23:46  0.021314  1.0  0.472222\n",
       "2023-11-14 10:00:23  0.015028  1.0  0.476190\n",
       "2023-11-14 15:59:59  0.012450  1.0  0.500000\n",
       "\n",
       "[967 rows x 3 columns]"
      ]
     },
     "execution_count": 28,
     "metadata": {},
     "output_type": "execute_result"
    }
   ],
   "source": [
    "out"
   ]
  },
  {
   "cell_type": "code",
   "execution_count": 29,
   "metadata": {},
   "outputs": [],
   "source": [
    "# SNIPPET 4.3 BUILD AN INDICATOR MATRIX\n",
    "def getIndMatrix(barIx, t1):\n",
    "    # Get indicator matrix\n",
    "    indM = pd.DataFrame(0, index=barIx, columns=range(t1.shape[0]))\n",
    "    for i, (t0, t1) in enumerate(t1.items()):  # Changed from .iteritems() to .items()\n",
    "        indM.loc[t0:t1, i] = 1.\n",
    "    return indM\n",
    "\n",
    "# SNIPPET 4.4 COMPUTE AVERAGE UNIQUENESS\n",
    "def getAvgUniqueness(indM):\n",
    "    # Average uniqueness from indicator matrix\n",
    "    c = indM.sum(axis=1)  # concurrency\n",
    "    u = indM.div(c, axis=0)  # uniqueness\n",
    "    avgU = u[u > 0].mean()  # average uniqueness\n",
    "    return avgU\n",
    "\n",
    "# SNIPPET 4.5 RETURN SAMPLE FROM SEQUENTIAL BOOTSTRAP\n",
    "def seqBootstrap(indM, me=None):\n",
    "    # Generate a sample via sequential bootstrap\n",
    "    if sLength is None:\n",
    "        sLength = indM.shape[1]\n",
    "    phi = []\n",
    "    while len(phi) < sLength:\n",
    "        avgU = pd.Series()\n",
    "        for i in indM:\n",
    "            indM_ = indM[phi + [i]]  # reduce indM\n",
    "            avgU.loc[i] = getAvgUniqueness(indM_).iloc[-1]\n",
    "        prob = avgU / avgU.sum()  # draw prob\n",
    "        phi += [np.random.choice(indM.columns, p=prob)]\n",
    "    return phi\n",
    "\n",
    "from tqdm import tqdm\n",
    "# SNIPPET 4.5 RETURN SAMPLE FROM SEQUENTIAL BOOTSTRAP\n",
    "def seqBootstrap(indM, sLength=None, uniqueObj = 0.8):\n",
    "    # Generate a sample via sequential bootstrap\n",
    "    if sLength is None:\n",
    "        sLength = indM.shape[1]\n",
    "    phi = []\n",
    "    \n",
    "    # Use tqdm to add a progress bar\n",
    "    for _ in tqdm(range(sLength), desc=\"Sequential Bootstrap Progress\"):\n",
    "        avgU = pd.Series()\n",
    "        for i in indM:\n",
    "            indM_ = indM[phi + [i]]  # reduce indM\n",
    "            avgU.loc[i] = getAvgUniqueness(indM_).iloc[-1]\n",
    "        prob = avgU / avgU.sum()  # draw prob\n",
    "        phi += [np.random.choice(indM.columns, p=prob)]\n",
    "        if len(phi) % 50 == 0:\n",
    "            print(f\"Sample length: {len(phi)}\")\n",
    "            print('Sequential uniqueness:',getAvgUniqueness(indM[phi]).mean())\n",
    "            print()\n",
    "        if getAvgUniqueness(indM[phi]).mean() < uniqueObj:\n",
    "            break\n",
    "    \n",
    "    return phi\n"
   ]
  },
  {
   "cell_type": "code",
   "execution_count": 30,
   "metadata": {},
   "outputs": [
    {
     "name": "stdout",
     "output_type": "stream",
     "text": [
      "Standard uniqueness: 0.7425063492063493\n"
     ]
    },
    {
     "name": "stderr",
     "output_type": "stream",
     "text": [
      "Sequential Bootstrap Progress:  20%|██        | 50/250 [01:43<06:59,  2.10s/it]"
     ]
    },
    {
     "name": "stdout",
     "output_type": "stream",
     "text": [
      "Sample length: 50\n",
      "Sequential uniqueness: 0.97\n",
      "\n"
     ]
    },
    {
     "name": "stderr",
     "output_type": "stream",
     "text": [
      "Sequential Bootstrap Progress:  40%|████      | 100/250 [04:13<11:09,  4.46s/it]"
     ]
    },
    {
     "name": "stdout",
     "output_type": "stream",
     "text": [
      "Sample length: 100\n",
      "Sequential uniqueness: 0.9397222222222222\n",
      "\n"
     ]
    },
    {
     "name": "stderr",
     "output_type": "stream",
     "text": [
      "Sequential Bootstrap Progress:  60%|██████    | 150/250 [07:07<06:28,  3.88s/it]"
     ]
    },
    {
     "name": "stdout",
     "output_type": "stream",
     "text": [
      "Sample length: 150\n",
      "Sequential uniqueness: 0.9045370370370369\n",
      "\n"
     ]
    },
    {
     "name": "stderr",
     "output_type": "stream",
     "text": [
      "Sequential Bootstrap Progress:  80%|████████  | 200/250 [10:34<03:29,  4.20s/it]"
     ]
    },
    {
     "name": "stdout",
     "output_type": "stream",
     "text": [
      "Sample length: 200\n",
      "Sequential uniqueness: 0.8707777777777779\n",
      "\n"
     ]
    },
    {
     "name": "stderr",
     "output_type": "stream",
     "text": [
      "Sequential Bootstrap Progress: 100%|██████████| 250/250 [15:27<00:00,  3.71s/it]"
     ]
    },
    {
     "name": "stdout",
     "output_type": "stream",
     "text": [
      "Sample length: 250\n",
      "Sequential uniqueness: 0.8252888888888888\n",
      "\n",
      "Sequential uniqueness: 0.8252888888888888\n"
     ]
    },
    {
     "name": "stderr",
     "output_type": "stream",
     "text": [
      "\n"
     ]
    }
   ],
   "source": [
    "# SNIPPET 4.6 EXAMPLE OF SEQUENTIAL BOOTSTRAP\n",
    "\n",
    "def main(t1, **kwargs):\n",
    "    # t1=pd.Series([2,3,5],index=[0,2,4]) # t0,t1 for each feature obs\n",
    "    # barIx=range(t1.max()+1) # index of bars\n",
    "    barIx = t1.index\n",
    "    indM=getIndMatrix(barIx,t1)\n",
    "    # phi=np.random.choice(indM.columns,size=indM.shape[1])\n",
    "    phi=np.random.choice(indM.columns,size=kwargs['sLength'])\n",
    "    # print(phi)\n",
    "    print('Standard uniqueness:',getAvgUniqueness(indM[phi]).mean())\n",
    "    phi=seqBootstrap(indM, **kwargs)\n",
    "    # print(phi)\n",
    "    print('Sequential uniqueness:',getAvgUniqueness(indM[phi]).mean())\n",
    "    return phi\n",
    "\n",
    "phi = main(t1=events['t1'], sLength=250, uniqueObj=0.5)"
   ]
  },
  {
   "cell_type": "code",
   "execution_count": 53,
   "metadata": {},
   "outputs": [],
   "source": [
    "# events"
   ]
  },
  {
   "cell_type": "code",
   "execution_count": 54,
   "metadata": {},
   "outputs": [],
   "source": [
    "out['t1'] = events['t1']\n",
    "# out"
   ]
  },
  {
   "cell_type": "code",
   "execution_count": 55,
   "metadata": {},
   "outputs": [],
   "source": [
    "# samples = out.iloc[phi]\n",
    "# samples"
   ]
  },
  {
   "cell_type": "code",
   "execution_count": 46,
   "metadata": {},
   "outputs": [],
   "source": [
    "# **SNIPPET 4.10** **DETERMINATION OF SAMPLE WEIGHT BY ABSOLUTE RETURN ATTRIBUTION**\n",
    "def mpSampleW(t1, numCoEvents, close, molecule):\n",
    "    # Derive sample weight by return attribution\n",
    "    ret = np.log(close).diff()  # log-returns, so that they are additive\n",
    "    wght = pd.Series(index=molecule)\n",
    "    for tIn, tOut in t1.loc[wght.index].items():  # Changed from iteritems() to items()\n",
    "        wght.loc[tIn] = (ret.loc[tIn:tOut] / numCoEvents.loc[tIn:tOut]).sum()\n",
    "    return wght.abs()"
   ]
  },
  {
   "cell_type": "code",
   "execution_count": 48,
   "metadata": {},
   "outputs": [],
   "source": [
    "out[\"w\"] = f_ch3.mpPandasObj(\n",
    "    mpSampleW,\n",
    "    (\"molecule\", events.index),\n",
    "    numThreads=1,\n",
    "    t1=events[\"t1\"],\n",
    "    numCoEvents=numCoEvents,\n",
    "    close=close,\n",
    ")\n",
    "out['w'] *= out.shape[0] / out['w'].sum()"
   ]
  },
  {
   "cell_type": "code",
   "execution_count": null,
   "metadata": {},
   "outputs": [],
   "source": [
    "out"
   ]
  },
  {
   "cell_type": "code",
   "execution_count": null,
   "metadata": {},
   "outputs": [],
   "source": [
    "# **SNIPPET 4.11** **IMPLEMENTATION OF TIME-DECAY FACTORS**\n",
    "def getTimeDecay(tW, clfLastW=1.0):\n",
    "    # apply piecewise-linear decay to observed uniqueness (tW)\n",
    "    # newest observation gets weight=1, oldest observation gets weight=clfLastW\n",
    "    clfW = tW.sort_index().cumsum()\n",
    "    if clfLastW >= 0:\n",
    "        slope = (1.0 - clfLastW) / clfW.iloc[-1]\n",
    "    else:\n",
    "        slope = 1.0 / ((clfLastW + 1) * clfW.iloc[-1])\n",
    "    const = 1.0 - slope * clfW.iloc[-1]\n",
    "    clfW = const + slope * clfW\n",
    "    clfW[clfW < 0] = 0\n",
    "    print(const, slope)\n",
    "    return clfW\n",
    "\n",
    "out[\"TdW\"]=getTimeDecay(out[\"tW\"], clfLastW=0.8)"
   ]
  },
  {
   "cell_type": "code",
   "execution_count": 57,
   "metadata": {},
   "outputs": [],
   "source": [
    "out[\"W\"]=out[\"w\"]*out[\"TdW\"]"
   ]
  },
  {
   "cell_type": "code",
   "execution_count": null,
   "metadata": {},
   "outputs": [],
   "source": [
    "samples = out.iloc[phi]\n",
    "samples"
   ]
  },
  {
   "cell_type": "code",
   "execution_count": null,
   "metadata": {},
   "outputs": [],
   "source": []
  }
 ],
 "metadata": {
  "kernelspec": {
   "display_name": "financial_math",
   "language": "python",
   "name": "python3"
  },
  "language_info": {
   "codemirror_mode": {
    "name": "ipython",
    "version": 3
   },
   "file_extension": ".py",
   "mimetype": "text/x-python",
   "name": "python",
   "nbconvert_exporter": "python",
   "pygments_lexer": "ipython3",
   "version": "3.8.19"
  }
 },
 "nbformat": 4,
 "nbformat_minor": 2
}
