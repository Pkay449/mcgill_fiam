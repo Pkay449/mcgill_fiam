{
 "cells": [
  {
   "cell_type": "markdown",
   "metadata": {},
   "source": [
    "## 7.5 Bugs In SKLEARN Cross-Validation\n",
    "\n",
    "Regarding the bugs mentioned in your book about scikit-learn's cross-validation, here is an update:\n",
    "\n",
    "1. **Scoring functions not recognizing `classes_` (Issue #6231):** This issue was related to scikit-learn's scoring functions not recognizing the classes when working with certain classifiers, leading to incorrect scoring when using cross-validation. This issue has been acknowledged and discussed within the scikit-learn community, and a solution was implemented. The scorer objects now look at the `classes_` attribute of the estimator before cross-validation, addressing the problem.\n",
    "\n",
    "2. **`cross_val_score` issue with `log_loss` (Issue #9144):** The problem was that `cross_val_score` did not allow the labels to be passed to the `log_loss` function, which could result in errors when the training and testing sets contained different classes. This issue was also addressed by improving how scikit-learn handles labels within its scoring functions.\n",
    "\n",
    "Both of these issues have been addressed in newer versions of scikit-learn. If you are using a recent version of the library, these bugs should no longer affect your work. However, it's always a good practice to review the documentation and release notes of the libraries you're using to stay informed about any ongoing or resolved issues【683†source】【684†source】."
   ]
  },
  {
   "cell_type": "markdown",
   "metadata": {},
   "source": []
  }
 ],
 "metadata": {
  "kernelspec": {
   "display_name": "financial_math",
   "language": "python",
   "name": "python3"
  },
  "language_info": {
   "name": "python",
   "version": "3.8.19"
  }
 },
 "nbformat": 4,
 "nbformat_minor": 2
}
