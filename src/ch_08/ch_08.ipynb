{
 "cells": [
  {
   "cell_type": "code",
   "execution_count": 1,
   "metadata": {},
   "outputs": [
    {
     "name": "stdout",
     "output_type": "stream",
     "text": [
      "Last updated: 2024-09-21T09:26:31.711772-04:00\n",
      "\n",
      "Python implementation: CPython\n",
      "Python version       : 3.8.19\n",
      "IPython version      : 8.12.2\n",
      "\n",
      "Compiler    : Clang 16.0.6 \n",
      "OS          : Darwin\n",
      "Release     : 23.6.0\n",
      "Machine     : arm64\n",
      "Processor   : arm\n",
      "CPU cores   : 8\n",
      "Architecture: 64bit\n",
      "\n",
      "\n"
     ]
    },
    {
     "name": "stderr",
     "output_type": "stream",
     "text": [
      "/var/folders/j0/8v9qcjfx15g5ftmsy5n0qrq80000gn/T/ipykernel_21486/2173331131.py:46: MatplotlibDeprecationWarning: The seaborn styles shipped by Matplotlib are deprecated since 3.6, as they no longer correspond to the styles shipped by seaborn. However, they will remain available as 'seaborn-v0_8-<style>'. Alternatively, directly use the seaborn API instead.\n",
      "  plt.style.use('seaborn-talk')\n"
     ]
    }
   ],
   "source": [
    "%load_ext watermark\n",
    "%watermark\n",
    "\n",
    "%load_ext autoreload\n",
    "%autoreload 2\n",
    "\n",
    "\n",
    "# import standard libs\n",
    "from IPython.display import display\n",
    "from IPython.core.debugger import set_trace as bp\n",
    "from pathlib import PurePath, Path\n",
    "import sys\n",
    "import time\n",
    "from collections import OrderedDict as od\n",
    "import re\n",
    "import os\n",
    "import json\n",
    "import datetime\n",
    "import pickle\n",
    "\n",
    "\n",
    "# import python scientific stack\n",
    "import pandas as pd\n",
    "import pandas_datareader.data as web\n",
    "pd.set_option('display.max_rows', 10)\n",
    "from dask import dataframe as dd\n",
    "from dask.diagnostics import ProgressBar\n",
    "from multiprocessing import cpu_count\n",
    "pbar = ProgressBar()\n",
    "pbar.register()\n",
    "import numpy as np\n",
    "import scipy.stats as stats\n",
    "import statsmodels.api as sm\n",
    "from numba import jit\n",
    "import math\n",
    "# import ffn\n",
    "\n",
    "\n",
    "# import visual tools\n",
    "import matplotlib as mpl\n",
    "import matplotlib.pyplot as plt\n",
    "import matplotlib.gridspec as gridspec\n",
    "%matplotlib inline\n",
    "import seaborn as sns\n",
    "\n",
    "plt.style.use('seaborn-talk')\n",
    "plt.style.use('bmh')\n",
    "#plt.rcParams['font.family'] = 'DejaVu Sans Mono'\n",
    "plt.rcParams['font.size'] = 9.5\n",
    "plt.rcParams['font.weight'] = 'medium'\n",
    "plt.rcParams['figure.figsize'] = 10,7\n",
    "blue, green, red, purple, gold, teal = sns.color_palette('colorblind', 6)\n",
    "\n",
    "RANDOM_STATE = 777\n",
    "\n",
    "print()"
   ]
  },
  {
   "cell_type": "code",
   "execution_count": 2,
   "metadata": {},
   "outputs": [
    {
     "name": "stdout",
     "output_type": "stream",
     "text": [
      "Project root added to sys.path: /Users/paulkelendji/Desktop/GitHub_paul/ML-Asset_Management\n",
      "Config path added to sys.path: /Users/paulkelendji/Desktop/GitHub_paul/ML-Asset_Management/config\n",
      "Current sys.path: ['/Users/paulkelendji/miniconda3/envs/financial_math/lib/python38.zip', '/Users/paulkelendji/miniconda3/envs/financial_math/lib/python3.8', '/Users/paulkelendji/miniconda3/envs/financial_math/lib/python3.8/lib-dynload', '', '/Users/paulkelendji/miniconda3/envs/financial_math/lib/python3.8/site-packages', '/Users/paulkelendji/miniconda3/envs/financial_math/lib/python3.8/site-packages/setuptools/_vendor', '/Users/paulkelendji/Desktop/GitHub_paul/ML-Asset_Management', '/Users/paulkelendji/Desktop/GitHub_paul/ML-Asset_Management/config']\n",
      "Project root added to sys.path: /Users/paulkelendji/Desktop/GitHub_paul/ML-Asset_Management\n",
      "Config path added to sys.path: /Users/paulkelendji/Desktop/GitHub_paul/ML-Asset_Management/config\n",
      "Current sys.path: ['/Users/paulkelendji/miniconda3/envs/financial_math/lib/python38.zip', '/Users/paulkelendji/miniconda3/envs/financial_math/lib/python3.8', '/Users/paulkelendji/miniconda3/envs/financial_math/lib/python3.8/lib-dynload', '', '/Users/paulkelendji/miniconda3/envs/financial_math/lib/python3.8/site-packages', '/Users/paulkelendji/miniconda3/envs/financial_math/lib/python3.8/site-packages/setuptools/_vendor', '/Users/paulkelendji/Desktop/GitHub_paul/ML-Asset_Management', '/Users/paulkelendji/Desktop/GitHub_paul/ML-Asset_Management/config', '/Users/paulkelendji/Desktop/GitHub_paul/ML-Asset_Management', '/Users/paulkelendji/Desktop/GitHub_paul/ML-Asset_Management', '/Users/paulkelendji/Desktop/GitHub_paul/ML-Asset_Management', '/Users/paulkelendji/Desktop/GitHub_paul/ML-Asset_Management/config']\n"
     ]
    }
   ],
   "source": [
    "import os\n",
    "\n",
    "# Run the setup script\n",
    "%run ../../config/setup_project.py\n",
    "\n",
    "# Call the function to set up the project path\n",
    "setup_project_path()\n",
    "\n",
    "# Now you can import your modules\n",
    "from src.utils import helper as h_\n",
    "import src.ch_02.code_ch_02 as f_ch2\n",
    "import src.ch_03.code_ch_03 as f_ch3\n",
    "import src.ch_04.code_ch_04 as f_ch4\n",
    "import src.ch_05.code_ch_05 as f_ch5\n",
    "import src.ch_06.code_ch_06 as f_ch6\n",
    "import src.ch_07.code_ch_07 as f_ch7\n",
    "import src.ch_08.code_ch_08 as f_ch8\n"
   ]
  },
  {
   "cell_type": "markdown",
   "metadata": {},
   "source": [
    "## 8.1 Using the code presented in Section 8.6:\n",
    "#### (a) Generate a dataset (X, y)."
   ]
  },
  {
   "cell_type": "code",
   "execution_count": 3,
   "metadata": {},
   "outputs": [
    {
     "name": "stdout",
     "output_type": "stream",
     "text": [
      "                 I_0       I_1       R_0       R_1       R_2       N_0\n",
      "1900-01-01 -0.852556  1.003125 -0.749602  0.201990  0.729078  0.405183\n",
      "1900-01-02 -0.161713  1.556664 -0.396463  0.847975  0.706700  0.204002\n",
      "1900-01-03 -1.368833  0.117766 -0.925728 -0.560268  0.549581 -0.822766\n",
      "1900-01-04 -1.058059 -0.183791 -0.664412 -0.595913  0.310484 -1.276874\n",
      "1900-01-05 -0.846001 -0.806505 -0.408511 -0.867298 -0.026112 -0.226437\n",
      "            bin       w                            t1\n",
      "1900-01-01    0  0.0001 1900-01-05 19:03:25.884760904\n",
      "1900-01-02    0  0.0001 1900-01-03 12:01:57.373220035\n",
      "1900-01-03    0  0.0001 1900-01-29 20:44:52.301932477\n",
      "1900-01-04    0  0.0001 1900-01-07 10:15:00.397779168\n",
      "1900-01-05    0  0.0001 1900-01-31 20:41:07.092991086\n"
     ]
    }
   ],
   "source": [
    "# Dataset\n",
    "X, cont = f_ch8.getTestData(n_features=6, n_informative=2, n_redundant=3, n_samples=10000)\n",
    "\n",
    "print(X.head())\n",
    "print(cont.head())"
   ]
  },
  {
   "cell_type": "markdown",
   "metadata": {},
   "source": [
    "#### (b) Apply a PCA transformation on X, which we denote by X_pca."
   ]
  },
  {
   "cell_type": "code",
   "execution_count": 4,
   "metadata": {},
   "outputs": [
    {
     "data": {
      "text/html": [
       "<div>\n",
       "<style scoped>\n",
       "    .dataframe tbody tr th:only-of-type {\n",
       "        vertical-align: middle;\n",
       "    }\n",
       "\n",
       "    .dataframe tbody tr th {\n",
       "        vertical-align: top;\n",
       "    }\n",
       "\n",
       "    .dataframe thead th {\n",
       "        text-align: right;\n",
       "    }\n",
       "</style>\n",
       "<table border=\"1\" class=\"dataframe\">\n",
       "  <thead>\n",
       "    <tr style=\"text-align: right;\">\n",
       "      <th></th>\n",
       "      <th>pca_0</th>\n",
       "      <th>pca_1</th>\n",
       "      <th>pca_2</th>\n",
       "    </tr>\n",
       "  </thead>\n",
       "  <tbody>\n",
       "    <tr>\n",
       "      <th>1900-01-01</th>\n",
       "      <td>1.763654</td>\n",
       "      <td>0.152787</td>\n",
       "      <td>-0.418803</td>\n",
       "    </tr>\n",
       "    <tr>\n",
       "      <th>1900-01-02</th>\n",
       "      <td>1.523970</td>\n",
       "      <td>-0.866472</td>\n",
       "      <td>-0.235102</td>\n",
       "    </tr>\n",
       "    <tr>\n",
       "      <th>1900-01-03</th>\n",
       "      <td>1.539948</td>\n",
       "      <td>1.194211</td>\n",
       "      <td>0.833923</td>\n",
       "    </tr>\n",
       "    <tr>\n",
       "      <th>1900-01-04</th>\n",
       "      <td>0.955369</td>\n",
       "      <td>1.085911</td>\n",
       "      <td>1.290463</td>\n",
       "    </tr>\n",
       "    <tr>\n",
       "      <th>1900-01-05</th>\n",
       "      <td>0.186790</td>\n",
       "      <td>1.308391</td>\n",
       "      <td>0.245039</td>\n",
       "    </tr>\n",
       "    <tr>\n",
       "      <th>...</th>\n",
       "      <td>...</td>\n",
       "      <td>...</td>\n",
       "      <td>...</td>\n",
       "    </tr>\n",
       "    <tr>\n",
       "      <th>1938-04-25</th>\n",
       "      <td>-1.706610</td>\n",
       "      <td>1.887436</td>\n",
       "      <td>-0.664066</td>\n",
       "    </tr>\n",
       "    <tr>\n",
       "      <th>1938-04-26</th>\n",
       "      <td>-1.767150</td>\n",
       "      <td>0.772812</td>\n",
       "      <td>0.439402</td>\n",
       "    </tr>\n",
       "    <tr>\n",
       "      <th>1938-04-27</th>\n",
       "      <td>-0.104035</td>\n",
       "      <td>-2.482043</td>\n",
       "      <td>0.571388</td>\n",
       "    </tr>\n",
       "    <tr>\n",
       "      <th>1938-04-28</th>\n",
       "      <td>-0.115712</td>\n",
       "      <td>-1.779633</td>\n",
       "      <td>0.014782</td>\n",
       "    </tr>\n",
       "    <tr>\n",
       "      <th>1938-04-29</th>\n",
       "      <td>0.244914</td>\n",
       "      <td>-3.014094</td>\n",
       "      <td>-0.748153</td>\n",
       "    </tr>\n",
       "  </tbody>\n",
       "</table>\n",
       "<p>10000 rows × 3 columns</p>\n",
       "</div>"
      ],
      "text/plain": [
       "               pca_0     pca_1     pca_2\n",
       "1900-01-01  1.763654  0.152787 -0.418803\n",
       "1900-01-02  1.523970 -0.866472 -0.235102\n",
       "1900-01-03  1.539948  1.194211  0.833923\n",
       "1900-01-04  0.955369  1.085911  1.290463\n",
       "1900-01-05  0.186790  1.308391  0.245039\n",
       "...              ...       ...       ...\n",
       "1938-04-25 -1.706610  1.887436 -0.664066\n",
       "1938-04-26 -1.767150  0.772812  0.439402\n",
       "1938-04-27 -0.104035 -2.482043  0.571388\n",
       "1938-04-28 -0.115712 -1.779633  0.014782\n",
       "1938-04-29  0.244914 -3.014094 -0.748153\n",
       "\n",
       "[10000 rows x 3 columns]"
      ]
     },
     "execution_count": 4,
     "metadata": {},
     "output_type": "execute_result"
    }
   ],
   "source": [
    "X_pca = f_ch8.orthoFeats(X)\n",
    "X_pca = pd.DataFrame(X_pca, index=X.index)\n",
    "# name each column \"pca_i\" where i is the index of the column\n",
    "X_pca.columns = [\"pca_%d\" % i for i in range(X_pca.shape[1])]\n",
    "X_pca"
   ]
  },
  {
   "cell_type": "code",
   "execution_count": 5,
   "metadata": {},
   "outputs": [
    {
     "name": "stdout",
     "output_type": "stream",
     "text": [
      "Explained Variance by Principal Component:\n",
      "PC1: 0.5268\n",
      "PC2: 0.3246\n",
      "PC3: 0.1486\n",
      "PC4: 0.0000\n",
      "PC5: 0.0000\n",
      "PC6: 0.0000\n",
      "PCA Loadings (Feature Contributions to Components):\n",
      "          PC1       PC2       PC3           PC4           PC5           PC6\n",
      "I_0  0.210397  0.719025 -0.006318  4.264142e-01 -2.157971e-01  4.585839e-01\n",
      "I_1  0.768955 -0.223949 -0.008581 -2.367048e-01 -5.485144e-01 -3.979328e-02\n",
      "R_0 -0.004178  0.516433 -0.002575 -3.270937e-02 -1.413272e-01 -8.439368e-01\n",
      "R_1  0.552490  0.198252 -0.007992 -2.059466e-01  7.829126e-01 -4.519296e-03\n",
      "R_2  0.242936 -0.356114 -0.001259  8.477369e-01  1.401360e-01 -2.754408e-01\n",
      "N_0 -0.012639 -0.005087 -0.999907 -4.251067e-17 -3.124104e-16 -1.398926e-16\n"
     ]
    },
    {
     "data": {
      "image/png": "[encoded data removed]",
      "text/plain": [
       "<Figure size 1000x600 with 2 Axes>"
      ]
     },
     "metadata": {},
     "output_type": "display_data"
    }
   ],
   "source": [
    "# Calculate explained variance (if applicable)\n",
    "from sklearn.decomposition import PCA\n",
    "pca = PCA()\n",
    "pca.fit(X)\n",
    "explained_variance = pca.explained_variance_ratio_\n",
    "\n",
    "# Display the explained variance by each principal component\n",
    "print(\"Explained Variance by Principal Component:\")\n",
    "for i, var in enumerate(explained_variance, 1):\n",
    "    print(f\"PC{i}: {var:.4f}\")\n",
    "\n",
    "# Loadings: how much each feature contributes to each principal component\n",
    "pca_loadings = pd.DataFrame(pca.components_.T, index=X.columns, columns=[f'PC{i+1}' for i in range(len(X.columns))])\n",
    "\n",
    "print(\"PCA Loadings (Feature Contributions to Components):\")\n",
    "print(pca_loadings)\n",
    "\n",
    "# Visualize the loadings with a heatmap\n",
    "import seaborn as sns\n",
    "import matplotlib.pyplot as plt\n",
    "\n",
    "plt.figure(figsize=(10, 6))\n",
    "sns.heatmap(pca_loadings, annot=True, cmap=\"coolwarm\", center=0)\n",
    "plt.title(\"PCA Loadings Heatmap\")\n",
    "plt.show()\n"
   ]
  },
  {
   "cell_type": "markdown",
   "metadata": {},
   "source": [
    "### (c) Compute MDI, MDA, and SFI feature importance on (̇ X, y), where the base estimator is RF."
   ]
  },
  {
   "cell_type": "code",
   "execution_count": 6,
   "metadata": {},
   "outputs": [
    {
     "name": "stdout",
     "output_type": "stream",
     "text": [
      "Standard uniqueness: 0.9426420123993654\n"
     ]
    },
    {
     "name": "stderr",
     "output_type": "stream",
     "text": [
      "Sequential Bootstrap Progress:  50%|█████     | 50/100 [1:08:09<1:48:07, 129.75s/it]"
     ]
    },
    {
     "name": "stdout",
     "output_type": "stream",
     "text": [
      "Sample length: 50\n",
      "Sequential uniqueness: 1.0\n",
      "\n"
     ]
    },
    {
     "name": "stderr",
     "output_type": "stream",
     "text": [
      "Sequential Bootstrap Progress: 100%|██████████| 100/100 [3:48:12<00:00, 136.93s/it] "
     ]
    },
    {
     "name": "stdout",
     "output_type": "stream",
     "text": [
      "Sample length: 100\n",
      "Sequential uniqueness: 0.9867942014126224\n",
      "\n",
      "Sequential uniqueness: 0.9867942014126224\n"
     ]
    },
    {
     "name": "stderr",
     "output_type": "stream",
     "text": [
      "\n"
     ]
    },
    {
     "data": {
      "text/plain": [
       "[4540,\n",
       " 4387,\n",
       " 6351,\n",
       " 6293,\n",
       " 2452,\n",
       " 5068,\n",
       " 6910,\n",
       " 8684,\n",
       " 2973,\n",
       " 9586,\n",
       " 1736,\n",
       " 2427,\n",
       " 7898,\n",
       " 7360,\n",
       " 6313,\n",
       " 2068,\n",
       " 2864,\n",
       " 465,\n",
       " 3749,\n",
       " 4179,\n",
       " 5841,\n",
       " 7589,\n",
       " 261,\n",
       " 4576,\n",
       " 5132,\n",
       " 4600,\n",
       " 4797,\n",
       " 7568,\n",
       " 5688,\n",
       " 483,\n",
       " 5182,\n",
       " 3959,\n",
       " 6786,\n",
       " 4139,\n",
       " 8588,\n",
       " 5916,\n",
       " 6080,\n",
       " 7470,\n",
       " 47,\n",
       " 8080,\n",
       " 6430,\n",
       " 4829,\n",
       " 7330,\n",
       " 9886,\n",
       " 2023,\n",
       " 6232,\n",
       " 8790,\n",
       " 5278,\n",
       " 1716,\n",
       " 7309,\n",
       " 1041,\n",
       " 1252,\n",
       " 1310,\n",
       " 521,\n",
       " 9931,\n",
       " 5000,\n",
       " 3596,\n",
       " 151,\n",
       " 4345,\n",
       " 1032,\n",
       " 1170,\n",
       " 2177,\n",
       " 1558,\n",
       " 3977,\n",
       " 1015,\n",
       " 452,\n",
       " 3624,\n",
       " 7425,\n",
       " 8390,\n",
       " 1283,\n",
       " 399,\n",
       " 1635,\n",
       " 5466,\n",
       " 6650,\n",
       " 1489,\n",
       " 7283,\n",
       " 5865,\n",
       " 9200,\n",
       " 5117,\n",
       " 3521,\n",
       " 837,\n",
       " 9272,\n",
       " 9001,\n",
       " 5599,\n",
       " 773,\n",
       " 3664,\n",
       " 3483,\n",
       " 7024,\n",
       " 8464,\n",
       " 9369,\n",
       " 9030,\n",
       " 6279,\n",
       " 4949,\n",
       " 2482,\n",
       " 3043,\n",
       " 6887,\n",
       " 6841,\n",
       " 5467,\n",
       " 9870,\n",
       " 9019]"
      ]
     },
     "execution_count": 6,
     "metadata": {},
     "output_type": "execute_result"
    }
   ],
   "source": [
    "f_ch4.main(cont['t1'], sLength=100)"
   ]
  },
  {
   "cell_type": "code",
   "execution_count": 7,
   "metadata": {},
   "outputs": [],
   "source": [
    "# Libraries\n",
    "from sklearn.ensemble import BaggingClassifier\n",
    "from sklearn.tree import DecisionTreeClassifier\n",
    "from sklearn.ensemble import RandomForestClassifier\n",
    "from sklearn.datasets import make_classification\n",
    "from sklearn.model_selection import train_test_split\n",
    "from sklearn.metrics import accuracy_score\n",
    "\n",
    "# Bagging classifier on RF where max_samples is set to average uniqueness\n",
    "clf2 = RandomForestClassifier(\n",
    "    n_estimators=1,  # 1 tree\n",
    "    criterion=\"entropy\",  # information gain\n",
    "    bootstrap=False,  # no bootstrap\n",
    "    class_weight=\"balanced_subsample\"  # prevent minority class from being ignored\n",
    ")\n",
    "\n",
    "clf2 = BaggingClassifier(\n",
    "    estimator=clf2,  # base estimator\n",
    "    n_estimators=1_000,  # 1_000 trees\n",
    "    max_samples=0.94,  # average uniqueness\n",
    "    max_features=1.0  # all features for bagging\n",
    ")"
   ]
  },
  {
   "cell_type": "code",
   "execution_count": 8,
   "metadata": {},
   "outputs": [
    {
     "name": "stdout",
     "output_type": "stream",
     "text": [
      "Running feature importance for MDI...\n"
     ]
    },
    {
     "data": {
      "image/png": "[encoded data removed]",
      "text/plain": [
       "<Figure size 1000x60 with 1 Axes>"
      ]
     },
     "metadata": {},
     "output_type": "display_data"
    },
    {
     "name": "stdout",
     "output_type": "stream",
     "text": [
      "Running feature importance for MDA...\n"
     ]
    },
    {
     "data": {
      "image/png": "[encoded data removed]",
      "text/plain": [
       "<Figure size 1000x60 with 1 Axes>"
      ]
     },
     "metadata": {},
     "output_type": "display_data"
    },
    {
     "name": "stdout",
     "output_type": "stream",
     "text": [
      "Running feature importance for SFI...\n",
      "Project root added to sys.path: /Users/paulkelendji/Desktop/GitHub_paul/ML-Asset_Management\n",
      "Config path added to sys.path:Project root added to sys.path: /Users/paulkelendji/Desktop/GitHub_paul/ML-Asset_Management/config\n",
      " Current sys.path:/Users/paulkelendji/Desktop/GitHub_paul/ML-Asset_Management \n",
      "['/Users/paulkelendji/miniconda3/envs/financial_math/lib/python38.zip', '/Users/paulkelendji/miniconda3/envs/financial_math/lib/python3.8', '/Users/paulkelendji/miniconda3/envs/financial_math/lib/python3.8/lib-dynload', '/Users/paulkelendji/Desktop/GitHub_paul/ML-Asset_Management/src/ch_08', '/Users/paulkelendji/miniconda3/envs/financial_math/lib/python3.8/site-packages', '/Users/paulkelendji/miniconda3/envs/financial_math/lib/python3.8/site-packages/setuptools/_vendor', '/Users/paulkelendji/Desktop/GitHub_paul/ML-Asset_Management', '/Users/paulkelendji/Desktop/GitHub_paul/ML-Asset_Management/config', '/Users/paulkelendji/Desktop/GitHub_paul/ML-Asset_Management', '/Users/paulkelendji/Desktop/GitHub_paul/ML-Asset_Management', '/Users/paulkelendji/Desktop/GitHub_paul/ML-Asset_Management', '/Users/paulkelendji/Desktop/GitHub_paul/ML-Asset_Management/config', '/Users/paulkelendji/Desktop/GitHub_paul', '/Users/paulkelendji/Desktop/GitHub_paul/ML-Asset_Management', '/Users/paulkelendji/Desktop/GitHub_paul/ML-Asset_Management', '/Users/paulkelendji/Desktop/GitHub_paul/ML-Asset_Management/config']Project root added to sys.path:\n",
      " /Users/paulkelendji/Desktop/GitHub_paul/ML-Asset_Management\n",
      "Config path added to sys.path: /Users/paulkelendji/Desktop/GitHub_paul/ML-Asset_Management/config\n",
      "Current sys.path: Config path added to sys.path: /Users/paulkelendji/Desktop/GitHub_paul/ML-Asset_Management/config['/Users/paulkelendji/miniconda3/envs/financial_math/lib/python38.zip', '/Users/paulkelendji/miniconda3/envs/financial_math/lib/python3.8', '/Users/paulkelendji/miniconda3/envs/financial_math/lib/python3.8/lib-dynload', '/Users/paulkelendji/Desktop/GitHub_paul/ML-Asset_Management/src/ch_08', '/Users/paulkelendji/miniconda3/envs/financial_math/lib/python3.8/site-packages', '/Users/paulkelendji/miniconda3/envs/financial_math/lib/python3.8/site-packages/setuptools/_vendor', '/Users/paulkelendji/Desktop/GitHub_paul/ML-Asset_Management', '/Users/paulkelendji/Desktop/GitHub_paul/ML-Asset_Management/config', '/Users/paulkelendji/Desktop/GitHub_paul/ML-Asset_Management', '/Users/paulkelendji/Desktop/GitHub_paul/ML-Asset_Management', '/Users/paulkelendji/Desktop/GitHub_paul/ML-Asset_Management', '/Users/paulkelendji/Desktop/GitHub_paul/ML-Asset_Management/config', '/Users/paulkelendji/Desktop/GitHub_paul', '/Users/paulkelendji/Desktop/GitHub_paul/ML-Asset_Management', '/Users/paulkelendji/Desktop/GitHub_paul/ML-Asset_Management', '/Users/paulkelendji/Desktop/GitHub_paul/ML-Asset_Management/config']\n",
      "\n",
      "Current sys.path: ['/Users/paulkelendji/miniconda3/envs/financial_math/lib/python38.zip', '/Users/paulkelendji/miniconda3/envs/financial_math/lib/python3.8', '/Users/paulkelendji/miniconda3/envs/financial_math/lib/python3.8/lib-dynload', '/Users/paulkelendji/Desktop/GitHub_paul/ML-Asset_Management/src/ch_08', '/Users/paulkelendji/miniconda3/envs/financial_math/lib/python3.8/site-packages', '/Users/paulkelendji/miniconda3/envs/financial_math/lib/python3.8/site-packages/setuptools/_vendor', '/Users/paulkelendji/Desktop/GitHub_paul/ML-Asset_Management', '/Users/paulkelendji/Desktop/GitHub_paul/ML-Asset_Management/config', '/Users/paulkelendji/Desktop/GitHub_paul/ML-Asset_Management', '/Users/paulkelendji/Desktop/GitHub_paul/ML-Asset_Management', '/Users/paulkelendji/Desktop/GitHub_paul/ML-Asset_Management', '/Users/paulkelendji/Desktop/GitHub_paul/ML-Asset_Management/config', '/Users/paulkelendji/Desktop/GitHub_paul', '/Users/paulkelendji/Desktop/GitHub_paul/ML-Asset_Management', '/Users/paulkelendji/Desktop/GitHub_paul/ML-Asset_Management', '/Users/paulkelendji/Desktop/GitHub_paul/ML-Asset_Management/config']\n"
     ]
    },
    {
     "name": "stderr",
     "output_type": "stream",
     "text": [
      "2024-09-21 13:24:59.056580 100.0% auxFeatImpSFI done after 5.4 minutes. Remaining 0.0 minutes.s.\n"
     ]
    },
    {
     "data": {
      "image/png": "[encoded data removed]",
      "text/plain": [
       "<Figure size 1000x60 with 1 Axes>"
      ]
     },
     "metadata": {},
     "output_type": "display_data"
    }
   ],
   "source": [
    "methods = ['MDI', 'MDA', 'SFI']\n",
    "\n",
    "n_estimators = 1000  # Number of trees in the random forest\n",
    "cv = 10  # Number of cross-validation folds\n",
    "max_samples = 1.0  # Use the entire dataset for each tree\n",
    "numThreads = 4  # Adjust based on your available computational resources\n",
    "pctEmbargo = 0  # No embargo for simplicity\n",
    "\n",
    "for method in methods:\n",
    "    print(f\"Running feature importance for {method}...\")\n",
    "    imp, oob, oos = f_ch8.featImportance(pd.DataFrame(X_pca), cont, n_estimators=n_estimators, cv=cv,\n",
    "                                    max_samples=max_samples, numThreads=numThreads, \n",
    "                                    pctEmbargo=pctEmbargo, method=method)\n",
    "    \n",
    "    # Plot the feature importance using the provided function\n",
    "    f_ch8.plotFeatImportance(pathOut='./', imp=imp, oob=oob, oos=oos, method=method, tag='test', simNum=0)\n"
   ]
  },
  {
   "cell_type": "markdown",
   "metadata": {},
   "source": [
    "## 8.2 From exercise 1, generate a new dataset (̈ X, y), wherë X is a feature union of X and X_pca"
   ]
  },
  {
   "cell_type": "code",
   "execution_count": null,
   "metadata": {},
   "outputs": [],
   "source": [
    "# X_2 = concat X and X_pca\n",
    "X_2 = pd.concat([X, X_pca], axis=1)\n",
    "X_2"
   ]
  },
  {
   "cell_type": "markdown",
   "metadata": {},
   "source": [
    "#### (a) Compute MDI, MDA, and SFI feature importance on (̈ X, y), where the base estimator is RF"
   ]
  },
  {
   "cell_type": "code",
   "execution_count": null,
   "metadata": {},
   "outputs": [],
   "source": [
    "methods = ['MDI', 'MDA', 'SFI']\n",
    "\n",
    "n_estimators = 1000  # Number of trees in the random forest\n",
    "cv = 10  # Number of cross-validation folds\n",
    "max_samples = 1.0  # Use the entire dataset for each tree\n",
    "numThreads = 4  # Adjust based on your available computational resources\n",
    "pctEmbargo = 0  # No embargo for simplicity\n",
    "\n",
    "for method in methods:\n",
    "    print(f\"Running feature importance for {method}...\")\n",
    "    imp, oob, oos = f_ch8.featImportance(X_2, cont, n_estimators=n_estimators, cv=cv,\n",
    "                                    max_samples=max_samples, numThreads=numThreads, \n",
    "                                    pctEmbargo=pctEmbargo, method=method)\n",
    "    \n",
    "    # Plot the feature importance using the provided function\n",
    "    f_ch8.plotFeatImportance(pathOut='./', imp=imp, oob=oob, oos=oos, method=method, tag='test', simNum=0)"
   ]
  },
  {
   "cell_type": "markdown",
   "metadata": {},
   "source": [
    "## 8.3 Take the results from exercise 2\n",
    "#### (a) Drop the most important features according to each method, resulting in a features matrix⃛ X.\n",
    "#### (b) Compute MDI, MDA, and SFI feature importance on (⃛ X, y), where the base estimator is RF"
   ]
  },
  {
   "cell_type": "code",
   "execution_count": null,
   "metadata": {},
   "outputs": [],
   "source": [
    "methods = ['MDI', 'MDA', 'SFI']\n",
    "method = methods[0]\n",
    "\n",
    "X_mdi = X_2.drop(columns=['pca_0'])\n",
    "X_mda = X_2.drop(columns=['pca_1'])\n",
    "X_sfi = X_2.drop(columns=['I_1'])\n",
    "\n",
    "X_method = zip([X_mdi, X_mda, X_sfi], methods)\n",
    "\n",
    "n_estimators = 1000  # Number of trees in the random forest\n",
    "cv = 10  # Number of cross-validation folds\n",
    "max_samples = 1.0  # Use the entire dataset for each tree\n",
    "numThreads = 4  # Adjust based on your available computational resources\n",
    "pctEmbargo = 0  # No embargo for simplicity\n",
    "\n",
    "for X_, method in X_method:\n",
    "    print(f\"Running feature importance for {method}...\")\n",
    "    imp, oob, oos = f_ch8.featImportance(X_, cont, n_estimators=n_estimators, cv=cv,\n",
    "                                    max_samples=max_samples, numThreads=numThreads, \n",
    "                                    pctEmbargo=pctEmbargo, method=method)\n",
    "    \n",
    "    # Plot the feature importance using the provided function\n",
    "    f_ch8.plotFeatImportance(pathOut='./', imp=imp, oob=oob, oos=oos, method=method, tag='test', simNum=0)\n"
   ]
  },
  {
   "cell_type": "markdown",
   "metadata": {},
   "source": [
    "# 8.4 Using the code presented in Section 8.6"
   ]
  },
  {
   "cell_type": "markdown",
   "metadata": {},
   "source": [
    "### (a) Generate a dataset (X, y) of 1E6 observations, where 5 features are informative, 5 are redundant and 10 are noise."
   ]
  },
  {
   "cell_type": "code",
   "execution_count": null,
   "metadata": {},
   "outputs": [],
   "source": [
    "# Dataset\n",
    "X, y = f_ch8.getTestData(\n",
    "    n_features=20, n_informative=5, n_redundant=5, n_samples=1_000_000, time_unit=\"H\"\n",
    ")\n",
    "\n",
    "print(X.head())\n",
    "print(cont.head())"
   ]
  },
  {
   "cell_type": "markdown",
   "metadata": {},
   "source": [
    "## (b) Split (X, y) into 10 datasets {(Xi, yi)}i=1,…,10 , each of 1E5 observations."
   ]
  },
  {
   "cell_type": "code",
   "execution_count": 9,
   "metadata": {},
   "outputs": [],
   "source": [
    "# Split the dataset into 10 parts, each containing 100,000 samples\n",
    "X_splits = np.array_split(X, 10)\n",
    "y_splits = np.array_split(y, 10)\n"
   ]
  },
  {
   "cell_type": "markdown",
   "metadata": {},
   "source": [
    "### (c) Compute the parallelized feature importance (Section 8.5), on each of the 10 datasets, {(Xi, yi)}i=1,…,10 ."
   ]
  },
  {
   "cell_type": "code",
   "execution_count": null,
   "metadata": {},
   "outputs": [],
   "source": [
    "# Parameters for feature importance calculation\n",
    "n_estimators = 1_000  # Number of trees in the random forest\n",
    "cv = 3  # Number of cross-validation folds\n",
    "max_samples = 1.0  # Use the entire dataset for each tree\n",
    "numThreads = 4  # Adjust based on your available computational resources\n",
    "pctEmbargo = 0  # No embargo for simplicity\n",
    "method = 'MDA'  # or 'MDA', 'SFI', 'MDI'\n",
    "\n",
    "# Store the feature importances for each split\n",
    "all_importances = []\n",
    "\n",
    "for i, (X_split, y_split) in enumerate(zip(X_splits, y_splits)):\n",
    "    print(f\"Processing dataset split {i + 1}/10...\")\n",
    "\n",
    "    # Combine X and y into a 'cont' DataFrame as required by the function\n",
    "    cont_split = y_split.copy()  # y_split is already a DataFrame with 'bin' column and 'w' (weights)\n",
    "    cont_split['w'] = 1.0 / cont_split.shape[0]\n",
    "    \n",
    "    # Compute feature importance for the split\n",
    "    imp, oob, oos = f_ch8.featImportance(\n",
    "        trnsX=X_split, \n",
    "        cont=cont_split, \n",
    "        n_estimators=n_estimators, \n",
    "        cv=cv,\n",
    "        max_samples=max_samples, \n",
    "        numThreads=numThreads, \n",
    "        pctEmbargo=pctEmbargo, \n",
    "        method=method\n",
    "    )\n",
    "    \n",
    "    # Store the importance for this split\n",
    "    all_importances.append(imp)\n",
    "    \n",
    "    print(f\"Out-of-bag score (split {i + 1}): {oob}\")\n",
    "    print(f\"Out-of-sample score (split {i + 1}): {oos}\")\n",
    "\n",
    "# Now you have `all_importances` which contains feature importances for each split\n"
   ]
  },
  {
   "cell_type": "code",
   "execution_count": 11,
   "metadata": {},
   "outputs": [],
   "source": [
    "# Parameters for feature importance calculation\n",
    "n_estimators = 1_000  # Number of trees in the random forest\n",
    "cv = 3  # Number of cross-validation folds\n",
    "max_samples = 1.0  # Use the entire dataset for each tree\n",
    "numThreads = 4  # Adjust based on your available computational resources\n",
    "pctEmbargo = 0  # No embargo for simplicity\n",
    "method = 'MDI'  # or 'MDA', 'SFI', 'MDI'\n",
    "\n",
    "imp, oob, oos = f_ch8.featImportance(\n",
    "                trnsX=X_2, \n",
    "                cont=cont, \n",
    "                n_estimators=n_estimators, \n",
    "                cv=cv,\n",
    "                max_samples=max_samples, \n",
    "                numThreads=numThreads, \n",
    "                pctEmbargo=pctEmbargo, \n",
    "                method=method\n",
    "            )"
   ]
  },
  {
   "cell_type": "code",
   "execution_count": null,
   "metadata": {},
   "outputs": [],
   "source": [
    "imp"
   ]
  },
  {
   "cell_type": "code",
   "execution_count": null,
   "metadata": {},
   "outputs": [],
   "source": []
  }
 ],
 "metadata": {
  "kernelspec": {
   "display_name": "financial_math",
   "language": "python",
   "name": "python3"
  },
  "language_info": {
   "codemirror_mode": {
    "name": "ipython",
    "version": 3
   },
   "file_extension": ".py",
   "mimetype": "text/x-python",
   "name": "python",
   "nbconvert_exporter": "python",
   "pygments_lexer": "ipython3",
   "version": "3.8.19"
  }
 },
 "nbformat": 4,
 "nbformat_minor": 2
}
